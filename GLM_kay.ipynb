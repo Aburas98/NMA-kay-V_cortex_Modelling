{
  "nbformat": 4,
  "nbformat_minor": 0,
  "metadata": {
    "colab": {
      "name": "GLM_kay.ipynb",
      "provenance": [],
      "collapsed_sections": [
        "ot_9b6_0H6o4",
        "N4u1DyTvIx0u",
        "VRNH_HwLfTj2"
      ],
      "include_colab_link": true
    },
    "kernelspec": {
      "display_name": "Python 3",
      "name": "python3"
    },
    "language_info": {
      "name": "python"
    }
  },
  "cells": [
    {
      "cell_type": "markdown",
      "metadata": {
        "id": "view-in-github",
        "colab_type": "text"
      },
      "source": [
        "<a href=\"https://colab.research.google.com/github/Aburas98/NMA-kay-V_cortex_Modelling/blob/main/GLM_kay.ipynb\" target=\"_parent\"><img src=\"https://colab.research.google.com/assets/colab-badge.svg\" alt=\"Open In Colab\"/></a>"
      ]
    },
    {
      "cell_type": "markdown",
      "metadata": {
        "id": "ot_9b6_0H6o4"
      },
      "source": [
        "#Import dataset and libraries"
      ]
    },
    {
      "cell_type": "code",
      "metadata": {
        "id": "JndvoS7XIE0V"
      },
      "source": [
        "import os\n",
        "import numpy as np\n",
        "import matplotlib.pyplot as plt"
      ],
      "execution_count": null,
      "outputs": []
    },
    {
      "cell_type": "code",
      "metadata": {
        "id": "HBFpMpr-IKHM"
      },
      "source": [
        "fname = \"kay_labels.npy\"\n",
        "if not os.path.exists(fname):\n",
        "  !wget -qO $fname https://osf.io/r638s/download\n",
        "fname = \"kay_labels_val.npy\"\n",
        "if not os.path.exists(fname):\n",
        "  !wget -qO $fname https://osf.io/yqb3e/download\n",
        "fname = \"kay_images.npz\"\n",
        "if not os.path.exists(fname):\n",
        "  !wget -qO $fname https://osf.io/ymnjv/download"
      ],
      "execution_count": null,
      "outputs": []
    },
    {
      "cell_type": "code",
      "metadata": {
        "id": "KwsAPXlXIMvb"
      },
      "source": [
        "with np.load(fname) as dobj:\n",
        "    dat = dict(**dobj)\n",
        "labels = np.load('kay_labels.npy')\n",
        "val_labels = np.load('kay_labels_val.npy')"
      ],
      "execution_count": null,
      "outputs": []
    },
    {
      "cell_type": "markdown",
      "metadata": {
        "id": "o2UR46OW8RHt"
      },
      "source": [
        "\n",
        "`labels` is a 4 by stim array of class names:  \n",
        "- row 3 has the labels predicted by a deep neural network (DNN) trained on Imagenet\n",
        "- rows 0-2 correspond to different levels of the wordnet hierarchy for the DNN predictions"
      ]
    },
    {
      "cell_type": "markdown",
      "metadata": {
        "id": "o_P2QFoM7NJe"
      },
      "source": [
        "`dat` has the following fields:  \n",
        "- `stimuli`: stim x i x j array of grayscale stimulus images\n",
        "- `stimuli_test`: stim x i x j array of grayscale stimulus images in the test set  \n",
        "- `responses`: stim x voxel array of z-scored BOLD response amplitude\n",
        "- `responses_test`:  stim x voxel array of z-scored BOLD response amplitude in the test set  \n",
        "- `roi`: array of voxel labels\n",
        "- `roi_names`: array of names corresponding to voxel labels"
      ]
    },
    {
      "cell_type": "markdown",
      "metadata": {
        "id": "N4u1DyTvIx0u"
      },
      "source": [
        "# Divide ROIs for training set"
      ]
    },
    {
      "cell_type": "code",
      "metadata": {
        "id": "H3I5jaKpJpuc"
      },
      "source": [
        "roi_responses_list = []\n",
        "for roi_index in range(1,8):\n",
        "    bold_index = dat['roi'] == roi_index\n",
        "    roi_responses_list.append(\n",
        "        np.array([ bold[bold_index] for bold in dat['responses']]))\n",
        "np_v1, np_v2, np_v3, np_v3a, np_v3b, np_v4, np_latocc = roi_responses_list\n"
      ],
      "execution_count": null,
      "outputs": []
    },
    {
      "cell_type": "markdown",
      "metadata": {
        "id": "VRNH_HwLfTj2"
      },
      "source": [
        "# Divide ROIs for test set"
      ]
    },
    {
      "cell_type": "code",
      "metadata": {
        "id": "wumx9NzMJ3Le"
      },
      "source": [
        "# I did not use this for prediction as I initially intended, because test set has less labels than training set (less categorical variables)\n",
        "troi_responses_list = []\n",
        "for roi_index in range(1,8):\n",
        "    bold_index = dat['roi'] == roi_index\n",
        "    troi_responses_list.append(\n",
        "        np.array([ bold[bold_index] for bold in dat['responses_test']]))\n",
        "np_v1test, np_v2test, np_v3test, np_v3atest, np_v3btest, np_v4test, np_latocctest = troi_responses_list "
      ],
      "execution_count": null,
      "outputs": []
    },
    {
      "cell_type": "markdown",
      "metadata": {
        "id": "lz_S47fdyBuo"
      },
      "source": [
        "# Encode labels and construct the design matrix X"
      ]
    },
    {
      "cell_type": "code",
      "metadata": {
        "colab": {
          "base_uri": "https://localhost:8080/"
        },
        "id": "Sfzk_LmgyaU4",
        "outputId": "f99bfefe-dd94-415b-c721-1d7ef9760c5f"
      },
      "source": [
        "level1 = labels[0,:]\n",
        "print(level1.shape)"
      ],
      "execution_count": null,
      "outputs": [
        {
          "output_type": "stream",
          "text": [
            "(1750,)\n"
          ],
          "name": "stdout"
        }
      ]
    },
    {
      "cell_type": "code",
      "metadata": {
        "id": "MuHnjX4bjRMe"
      },
      "source": [
        "from numpy import array\n",
        "from numpy import argmax\n",
        "from sklearn.preprocessing import LabelEncoder\n",
        "from sklearn.preprocessing import OneHotEncoder"
      ],
      "execution_count": null,
      "outputs": []
    },
    {
      "cell_type": "code",
      "metadata": {
        "colab": {
          "base_uri": "https://localhost:8080/"
        },
        "id": "_uuLtmpWyyln",
        "outputId": "9b056d98-78dd-459a-c5ff-abb46818a340"
      },
      "source": [
        "# integer encode\n",
        "label_encoder = LabelEncoder()\n",
        "integer_encoded = label_encoder.fit_transform(level1)\n",
        "print(integer_encoded.shape)\n",
        "# binary encode\n",
        "onehot_encoder = OneHotEncoder(sparse=False)\n",
        "integer_encoded = integer_encoded.reshape(len(integer_encoded), 1)\n",
        "X = onehot_encoder.fit_transform(integer_encoded)\n",
        "print(X.shape)"
      ],
      "execution_count": null,
      "outputs": [
        {
          "output_type": "stream",
          "text": [
            "(1750,)\n",
            "(1750, 8)\n"
          ],
          "name": "stdout"
        }
      ]
    },
    {
      "cell_type": "code",
      "metadata": {
        "colab": {
          "base_uri": "https://localhost:8080/"
        },
        "id": "sfq0-6awg55F",
        "outputId": "4d9fb79d-2683-4b6c-daa0-d9ba1e3fb385"
      },
      "source": [
        "X_t = np.transpose(X)\n",
        "mult = np.dot(X_t,X)\n",
        "print(mult.shape)\n",
        "# check for multicollinearity\n",
        "np.linalg.det(mult) == 0 "
      ],
      "execution_count": null,
      "outputs": [
        {
          "output_type": "stream",
          "text": [
            "(8, 8)\n"
          ],
          "name": "stdout"
        },
        {
          "output_type": "execute_result",
          "data": {
            "text/plain": [
              "False"
            ]
          },
          "metadata": {
            "tags": []
          },
          "execution_count": 14
        }
      ]
    },
    {
      "cell_type": "code",
      "metadata": {
        "colab": {
          "base_uri": "https://localhost:8080/"
        },
        "id": "dyL33hKQOk0T",
        "outputId": "50401560-e306-4099-ed88-865eb8d9c7db"
      },
      "source": [
        "print(level1[10:20])\n",
        "print(X[10:20])\n",
        "x = np.where()"
      ],
      "execution_count": null,
      "outputs": [
        {
          "output_type": "stream",
          "text": [
            "['artifact' 'artifact' 'artifact' 'animal' 'geological formation' 'entity'\n",
            " 'artifact' 'animal' 'animal' 'artifact']\n",
            "[[0. 1. 0. 0. 0. 0. 0. 0.]\n",
            " [0. 1. 0. 0. 0. 0. 0. 0.]\n",
            " [0. 1. 0. 0. 0. 0. 0. 0.]\n",
            " [1. 0. 0. 0. 0. 0. 0. 0.]\n",
            " [0. 0. 0. 0. 0. 1. 0. 0.]\n",
            " [0. 0. 1. 0. 0. 0. 0. 0.]\n",
            " [0. 1. 0. 0. 0. 0. 0. 0.]\n",
            " [1. 0. 0. 0. 0. 0. 0. 0.]\n",
            " [1. 0. 0. 0. 0. 0. 0. 0.]\n",
            " [0. 1. 0. 0. 0. 0. 0. 0.]]\n"
          ],
          "name": "stdout"
        }
      ]
    },
    {
      "cell_type": "code",
      "metadata": {
        "id": "XRKX3BpZDA8L"
      },
      "source": [
        "Y = dat[\"responses\"]"
      ],
      "execution_count": null,
      "outputs": []
    },
    {
      "cell_type": "code",
      "metadata": {
        "colab": {
          "base_uri": "https://localhost:8080/"
        },
        "id": "nPY1KI68NljB",
        "outputId": "63aab751-39b0-40f0-9ea9-85571601698d"
      },
      "source": [
        "Y.shape"
      ],
      "execution_count": null,
      "outputs": [
        {
          "output_type": "execute_result",
          "data": {
            "text/plain": [
              "(1750, 8428)"
            ]
          },
          "metadata": {
            "tags": []
          },
          "execution_count": 46
        }
      ]
    },
    {
      "cell_type": "markdown",
      "metadata": {
        "id": "bH-wwbIZzZvN"
      },
      "source": [
        "#Import model and fit to data\n",
        "\n"
      ]
    },
    {
      "cell_type": "code",
      "metadata": {
        "id": "rMm3O1LDhgUC"
      },
      "source": [
        "import sklearn as sk\n",
        "from sklearn import linear_model\n",
        "from sklearn.metrics import r2_score"
      ],
      "execution_count": null,
      "outputs": []
    },
    {
      "cell_type": "markdown",
      "metadata": {
        "id": "h4zwysUKVYN6"
      },
      "source": [
        "## Model fitting for V1"
      ]
    },
    {
      "cell_type": "code",
      "metadata": {
        "id": "mv8biI-ozArH"
      },
      "source": [
        "model1 = linear_model.MultiTaskLassoCV(cv=6, random_state=0).fit(X,np_v1)\n",
        "v1_score = r2_score(np_v1, model1.predict(X))\n",
        "print(f\"R2 score for V1 is {v1_score}\")"
      ],
      "execution_count": null,
      "outputs": []
    },
    {
      "cell_type": "markdown",
      "metadata": {
        "id": "EyA2UBZ9jjQk"
      },
      "source": [
        "## Model fitting for V2"
      ]
    },
    {
      "cell_type": "code",
      "metadata": {
        "colab": {
          "base_uri": "https://localhost:8080/"
        },
        "id": "iBPBtyXIjhPN",
        "outputId": "4b7a2004-bd43-41a7-93ac-67e1aa1b061a"
      },
      "source": [
        "model2 = linear_model.MultiTaskLassoCV(cv=6, random_state=0).fit(X,np_v2)\n",
        "v2_score = r2_score(np_v2, model2.predict(X))\n",
        "print(f\"R2 score for V2 is {v2_score}\")"
      ],
      "execution_count": null,
      "outputs": [
        {
          "output_type": "stream",
          "text": [
            "R2 score for V2 is 0.0008442358838341754\n"
          ],
          "name": "stdout"
        }
      ]
    },
    {
      "cell_type": "markdown",
      "metadata": {
        "id": "cp6--V-Kj5hm"
      },
      "source": [
        "## Model fitting for V3"
      ]
    },
    {
      "cell_type": "code",
      "metadata": {
        "colab": {
          "base_uri": "https://localhost:8080/"
        },
        "id": "6KQYDpfQkXDz",
        "outputId": "7c70622d-a9c2-4a10-bd1f-8a1b31b75f22"
      },
      "source": [
        "model3 = linear_model.MultiTaskLassoCV(cv=6, random_state=0).fit(X,np_v3)\n",
        "v3_score = r2_score(np_v3, model3.predict(X))\n",
        "print(f\"R2 score for V3 is {v3_score}\")"
      ],
      "execution_count": null,
      "outputs": [
        {
          "output_type": "stream",
          "text": [
            "R2 score for V3 is 0.001023488631134326\n"
          ],
          "name": "stdout"
        }
      ]
    },
    {
      "cell_type": "markdown",
      "metadata": {
        "id": "Z343PVVNj5v1"
      },
      "source": [
        "## Model fitting for V3A"
      ]
    },
    {
      "cell_type": "code",
      "metadata": {
        "colab": {
          "base_uri": "https://localhost:8080/"
        },
        "id": "28d8fQT3kico",
        "outputId": "2fd2ab5e-0d79-4791-80d8-9c1de43fa471"
      },
      "source": [
        "model3a = linear_model.MultiTaskLassoCV(cv=6, random_state=0).fit(X,np_v3a)\n",
        "v3a_score = r2_score(np_v3a, model3a.predict(X))\n",
        "print(f\"R2 score for V3a is {v3a_score}\")"
      ],
      "execution_count": null,
      "outputs": [
        {
          "output_type": "stream",
          "text": [
            "R2 score for V3a is 0.0024178710597828005\n"
          ],
          "name": "stdout"
        }
      ]
    },
    {
      "cell_type": "markdown",
      "metadata": {
        "id": "vEwHFczjj6jL"
      },
      "source": [
        "## Model fitting for V3B"
      ]
    },
    {
      "cell_type": "code",
      "metadata": {
        "colab": {
          "base_uri": "https://localhost:8080/"
        },
        "id": "JEPWAM3kktob",
        "outputId": "7e24306f-1d98-4b7c-db6b-b69c139f479e"
      },
      "source": [
        "model3b = linear_model.MultiTaskLassoCV(cv=6, random_state=0).fit(X,np_v3b)\n",
        "v3b_score = r2_score(np_v3b, model3b.predict(X))\n",
        "print(f\"R2 score for V3b is {v3b_score}\")"
      ],
      "execution_count": null,
      "outputs": [
        {
          "output_type": "stream",
          "text": [
            "R2 score for V3b is 0.005073717254267692\n"
          ],
          "name": "stdout"
        }
      ]
    },
    {
      "cell_type": "code",
      "metadata": {
        "id": "vfrgkGKdaLuz"
      },
      "source": [
        "model4 = linear_model.MultiTaskLassoCV(cv=6, random_state=0).fit(X,np_v4)\n",
        "v4_score = r2_score(np_v4, model4.predict(X))\n",
        "print(f\"R2 score for V4 is {v4_score}\")"
      ],
      "execution_count": null,
      "outputs": []
    },
    {
      "cell_type": "markdown",
      "metadata": {
        "id": "2ux9b3bnj6qk"
      },
      "source": [
        "## Model fitting for LO"
      ]
    },
    {
      "cell_type": "code",
      "metadata": {
        "colab": {
          "base_uri": "https://localhost:8080/"
        },
        "id": "BBZFestNkTK4",
        "outputId": "a538c86f-b7c9-43ca-d5cf-a0df1da652da"
      },
      "source": [
        "model_lo = linear_model.MultiTaskLassoCV(cv=6, random_state=0).fit(X,np_latocc)\n",
        "lo_score = r2_score(np_latocc, model_lo.predict(X))\n",
        "print(f\"R2 score for LO is {lo_score}\")"
      ],
      "execution_count": null,
      "outputs": [
        {
          "output_type": "stream",
          "text": [
            "R2 score for LO is 0.005980201825683018\n"
          ],
          "name": "stdout"
        }
      ]
    },
    {
      "cell_type": "code",
      "metadata": {
        "id": "C-8tBvI_o5Vk"
      },
      "source": [
        ""
      ],
      "execution_count": null,
      "outputs": []
    },
    {
      "cell_type": "markdown",
      "metadata": {
        "id": "Z33wNT9cCbHp"
      },
      "source": [
        "![R2.jpg](data:image/jpeg;base64,/9j/4AAQSkZJRgABAQEAYABgAAD/4SQoRXhpZgAATU0AKgAAAAgABgALAAIAAAAmAAAIYgESAAMAAAABAAEAAAExAAIAAAAmAAAIiAEyAAIAAAAUAAAIrodpAAQAAAABAAAIwuocAAcAAAgMAAAAVgAAEUYc6gAAAAgAAAAAAAAAAAAAAAAAAAAAAAAAAAAAAAAAAAAAAAAAAAAAAAAAAAAAAAAAAAAAAAAAAAAAAAAAAAAAAAAAAAAAAAAAAAAAAAAAAAAAAAAAAAAAAAAAAAAAAAAAAAAAAAAAAAAAAAAAAAAAAAAAAAAAAAAAAAAAAAAAAAAAAAAAAAAAAAAAAAAAAAAAAAAAAAAAAAAAAAAAAAAAAAAAAAAAAAAAAAAAAAAAAAAAAAAAAAAAAAAAAAAAAAAAAAAAAAAAAAAAAAAAAAAAAAAAAAAAAAAAAAAAAAAAAAAAAAAAAAAAAAAAAAAAAAAAAAAAAAAAAAAAAAAAAAAAAAAAAAAAAAAAAAAAAAAAAAAAAAAAAAAAAAAAAAAAAAAAAAAAAAAAAAAAAAAAAAAAAAAAAAAAAAAAAAAAAAAAAAAAAAAAAAAAAAAAAAAAAAAAAAAAAAAAAAAAAAAAAAAAAAAAAAAAAAAAAAAAAAAAAAAAAAAAAAAAAAAAAAAAAAAAAAAAAAAAAAAAAAAAAAAAAAAAAAAAAAAAAAAAAAAAAAAAAAAAAAAAAAAAAAAAAAAAAAAAAAAAAAAAAAAAAAAAAAAAAAAAAAAAAAAAAAAAAAAAAAAAAAAAAAAAAAAAAAAAAAAAAAAAAAAAAAAAAAAAAAAAAAAAAAAAAAAAAAAAAAAAAAAAAAAAAAAAAAAAAAAAAAAAAAAAAAAAAAAAAAAAAAAAAAAAAAAAAAAAAAAAAAAAAAAAAAAAAAAAAAAAAAAAAAAAAAAAAAAAAAAAAAAAAAAAAAAAAAAAAAAAAAAAAAAAAAAAAAAAAAAAAAAAAAAAAAAAAAAAAAAAAAAAAAAAAAAAAAAAAAAAAAAAAAAAAAAAAAAAAAAAAAAAAAAAAAAAAAAAAAAAAAAAAAAAAAAAAAAAAAAAAAAAAAAAAAAAAAAAAAAAAAAAAAAAAAAAAAAAAAAAAAAAAAAAAAAAAAAAAAAAAAAAAAAAAAAAAAAAAAAAAAAAAAAAAAAAAAAAAAAAAAAAAAAAAAAAAAAAAAAAAAAAAAAAAAAAAAAAAAAAAAAAAAAAAAAAAAAAAAAAAAAAAAAAAAAAAAAAAAAAAAAAAAAAAAAAAAAAAAAAAAAAAAAAAAAAAAAAAAAAAAAAAAAAAAAAAAAAAAAAAAAAAAAAAAAAAAAAAAAAAAAAAAAAAAAAAAAAAAAAAAAAAAAAAAAAAAAAAAAAAAAAAAAAAAAAAAAAAAAAAAAAAAAAAAAAAAAAAAAAAAAAAAAAAAAAAAAAAAAAAAAAAAAAAAAAAAAAAAAAAAAAAAAAAAAAAAAAAAAAAAAAAAAAAAAAAAAAAAAAAAAAAAAAAAAAAAAAAAAAAAAAAAAAAAAAAAAAAAAAAAAAAAAAAAAAAAAAAAAAAAAAAAAAAAAAAAAAAAAAAAAAAAAAAAAAAAAAAAAAAAAAAAAAAAAAAAAAAAAAAAAAAAAAAAAAAAAAAAAAAAAAAAAAAAAAAAAAAAAAAAAAAAAAAAAAAAAAAAAAAAAAAAAAAAAAAAAAAAAAAAAAAAAAAAAAAAAAAAAAAAAAAAAAAAAAAAAAAAAAAAAAAAAAAAAAAAAAAAAAAAAAAAAAAAAAAAAAAAAAAAAAAAAAAAAAAAAAAAAAAAAAAAAAAAAAAAAAAAAAAAAAAAAAAAAAAAAAAAAAAAAAAAAAAAAAAAAAAAAAAAAAAAAAAAAAAAAAAAAAAAAAAAAAAAAAAAAAAAAAAAAAAAAAAAAAAAAAAAAAAAAAAAAAAAAAAAAAAAAAAAAAAAAAAAAAAAAAAAAAAAAAAAAAAAAAAAAAAAAAAAAAAAAAAAAAAAAAAAAAAAAAAAAAAAAAAAAAAAAAAAAAAAAAAAAAAAAAAAAAAAAAAAAAAAAAAAAAAAAAAAAAAAAAAAAAAAAAAAAAAAAAAAAAAAAAAAAAAAAAAAAAAAAAAAAAAAAAAAAAAAAAAAAAAAAAAAAAAAAAAAAAAAAAAAAAAAAAAAAAAAAAAAAAAAAAAAAAAAAAAAAAAAAAAAAAAAAAAAAAAAAAAAAAAAAAAAAAAAAAAAAAAAAAAAAAAAAAAAAAAAAAAAAAAAAAAAAAAAAAAAAAAAAAAAAAAAAAAAAAAAAAAAAAAAAAAAAAAAAAAAAAAAAAAAAAAAAAAAAAAAAAAAAAAAAAAAAAAAAAAAAAAAAAAAAAAAAAAAAAAAAAAAAAAAAAAAAAAAAAAAAAAAAAAAAAAAAAAAAAAAAAAAAAAAAAAAAAAAAAAAAAAAAAAAAAAAAAAAAAAAAAAAAAAAAAAAAAAAAAAAAAAAAAAAAAAAAAAAAAAAAAAAAAAAAAAAAAAAAAAAAAAAAAAAAAAAAAAAAAAAAAAAAAAAAAAAAAAAAAAAAAAAAAAAAAAAAAAAAAAAAAAAAAAAAAAAAAAAAAAAAAAAAAAAAAAAAAAAAAAAAAAAAAAAAAAAAAAAAAAAAAAAAAAAAAAAAAAAAAAAAAAAAAAAAAAAAAAAAAAAAAAAAAAAAAAAAAAAAAAAAAAAAAAAAAAAAAAAAAAAAAAAAAAAAAAAAAAAAAAAAAAAAAAAAAAAAAAAAAAAAAAAAAAAAAAAAAAAAAAAAAAAAAAAAAAAAAAAAAAAAAAAAAAAAAAAAAAAAAAAAAAAAAAAAAAAAAAAAAAAAAAAAAAAAAAAAAAAAAAAAAAAAAAAAAAAAAAAAAAAAAAAAAAAAAAAAAAAAAAAAAAAAAAAAAAAAAAAAAAFdpbmRvd3MgUGhvdG8gRWRpdG9yIDEwLjAuMTAwMTEuMTYzODQAV2luZG93cyBQaG90byBFZGl0b3IgMTAuMC4xMDAxMS4xNjM4NAAyMDIxOjA3OjIyIDE5OjE1OjA5AAAGkAMAAgAAABQAABEckAQAAgAAABQAABEwkpEAAgAAAAMwMAAAkpIAAgAAAAMwMAAAoAEAAwAAAAEAAQAA6hwABwAACAwAAAkQAAAAABzqAAAACAAAAAAAAAAAAAAAAAAAAAAAAAAAAAAAAAAAAAAAAAAAAAAAAAAAAAAAAAAAAAAAAAAAAAAAAAAAAAAAAAAAAAAAAAAAAAAAAAAAAAAAAAAAAAAAAAAAAAAAAAAAAAAAAAAAAAAAAAAAAAAAAAAAAAAAAAAAAAAAAAAAAAAAAAAAAAAAAAAAAAAAAAAAAAAAAAAAAAAAAAAAAAAAAAAAAAAAAAAAAAAAAAAAAAAAAAAAAAAAAAAAAAAAAAAAAAAAAAAAAAAAAAAAAAAAAAAAAAAAAAAAAAAAAAAAAAAAAAAAAAAAAAAAAAAAAAAAAAAAAAAAAAAAAAAAAAAAAAAAAAAAAAAAAAAAAAAAAAAAAAAAAAAAAAAAAAAAAAAAAAAAAAAAAAAAAAAAAAAAAAAAAAAAAAAAAAAAAAAAAAAAAAAAAAAAAAAAAAAAAAAAAAAAAAAAAAAAAAAAAAAAAAAAAAAAAAAAAAAAAAAAAAAAAAAAAAAAAAAAAAAAAAAAAAAAAAAAAAAAAAAAAAAAAAAAAAAAAAAAAAAAAAAAAAAAAAAAAAAAAAAAAAAAAAAAAAAAAAAAAAAAAAAAAAAAAAAAAAAAAAAAAAAAAAAAAAAAAAAAAAAAAAAAAAAAAAAAAAAAAAAAAAAAAAAAAAAAAAAAAAAAAAAAAAAAAAAAAAAAAAAAAAAAAAAAAAAAAAAAAAAAAAAAAAAAAAAAAAAAAAAAAAAAAAAAAAAAAAAAAAAAAAAAAAAAAAAAAAAAAAAAAAAAAAAAAAAAAAAAAAAAAAAAAAAAAAAAAAAAAAAAAAAAAAAAAAAAAAAAAAAAAAAAAAAAAAAAAAAAAAAAAAAAAAAAAAAAAAAAAAAAAAAAAAAAAAAAAAAAAAAAAAAAAAAAAAAAAAAAAAAAAAAAAAAAAAAAAAAAAAAAAAAAAAAAAAAAAAAAAAAAAAAAAAAAAAAAAAAAAAAAAAAAAAAAAAAAAAAAAAAAAAAAAAAAAAAAAAAAAAAAAAAAAAAAAAAAAAAAAAAAAAAAAAAAAAAAAAAAAAAAAAAAAAAAAAAAAAAAAAAAAAAAAAAAAAAAAAAAAAAAAAAAAAAAAAAAAAAAAAAAAAAAAAAAAAAAAAAAAAAAAAAAAAAAAAAAAAAAAAAAAAAAAAAAAAAAAAAAAAAAAAAAAAAAAAAAAAAAAAAAAAAAAAAAAAAAAAAAAAAAAAAAAAAAAAAAAAAAAAAAAAAAAAAAAAAAAAAAAAAAAAAAAAAAAAAAAAAAAAAAAAAAAAAAAAAAAAAAAAAAAAAAAAAAAAAAAAAAAAAAAAAAAAAAAAAAAAAAAAAAAAAAAAAAAAAAAAAAAAAAAAAAAAAAAAAAAAAAAAAAAAAAAAAAAAAAAAAAAAAAAAAAAAAAAAAAAAAAAAAAAAAAAAAAAAAAAAAAAAAAAAAAAAAAAAAAAAAAAAAAAAAAAAAAAAAAAAAAAAAAAAAAAAAAAAAAAAAAAAAAAAAAAAAAAAAAAAAAAAAAAAAAAAAAAAAAAAAAAAAAAAAAAAAAAAAAAAAAAAAAAAAAAAAAAAAAAAAAAAAAAAAAAAAAAAAAAAAAAAAAAAAAAAAAAAAAAAAAAAAAAAAAAAAAAAAAAAAAAAAAAAAAAAAAAAAAAAAAAAAAAAAAAAAAAAAAAAAAAAAAAAAAAAAAAAAAAAAAAAAAAAAAAAAAAAAAAAAAAAAAAAAAAAAAAAAAAAAAAAAAAAAAAAAAAAAAAAAAAAAAAAAAAAAAAAAAAAAAAAAAAAAAAAAAAAAAAAAAAAAAAAAAAAAAAAAAAAAAAAAAAAAAAAAAAAAAAAAAAAAAAAAAAAAAAAAAAAAAAAAAAAAAAAAAAAAAAAAAAAAAAAAAAAAAAAAAAAAAAAAAAAAAAAAAAAAAAAAAAAAAAAAAAAAAAAAAAAAAAAAAAAAAAAAAAAAAAAAAAAAAAAAAAAAAAAAAAAAAAAAAAAAAAAAAAAAAAAAAAAAAAAAAAAAAAAAAAAAAAAAAAAAAAAAAAAAAAAAAAAAAAAAAAAAAAAAAAAAAAAAAAAAAAAAAAAAAAAAAAAAAAAAAAAAAAAAAAAAAAAAAAAAAAAAAAAAAAAAAAAAAAAAAAAAAAAAAAAAAAAAAAAAAAAAAAAAAAAAAAAAAAAAAAAAAAAAAAAAAAAAAAAAAAAAAAAAAAAAAAAAAAAAAAAAAAAAAAAAAAAAAAAAAAAAAAAAAAAAAAAAAAAAAAAAAAAAAAAAAAAAAAAAAAAAAAAAAAAAAAAAAAAAAAAAAAAAAAAAAAAAAAAAAAAAAAAAAAAAAAAAAAAAAAAAAAAAAAAAAAAAAAAAAAAAAAAAAAAAAAAAAAAAAAAAAAAAAAAAAAAAAAAAAAAAAAAAAAAAAAAAAAAAAAAAAAAAAAAAAAAAAAAAAAAAAAAAAAAAAAAAAAAAAAAAAAAAAAAAAAAAAAAAAAAAAAAAAAAAAAAAAAAAAAAAAAAAAAAAAAAAAAAAAAAAAAAAAAAAAAAAAAAAAAAAAAAAAAAAAAAAAAAAAAAAAAAAAAAAAAAAAAAAAAAAAAAAAAAAAAAAAAAAAAAAAAAAAAAAAAAAAAAAAAAAAAAAAAAAAAAAAAAAAAAAAAAAAAAAAAAAAAAAAAAAAAAAAAAAAAAAAAAAAAAAAAAAAAAAAAAAAAAAAAAAAAAAAAAAAAAAAAAAAAAAAAAAAAAAAAAAAAAAAAAAAAAAAAAAAAAAAAAAAAAAAAAAAAAAAMjAyMTowNzoyMiAxOToxMjo0OAAyMDIxOjA3OjIyIDE5OjEyOjQ4AAAAAAYBAwADAAAAAQAGAAABGgAFAAAAAQAAEZQBGwAFAAAAAQAAEZwBKAADAAAAAQACAAACAQAEAAAAAQAAEaQCAgAEAAAAAQAAEnwAAAAAAAAAYAAAAAEAAABgAAAAAf/Y/9sAQwAIBgYHBgUIBwcHCQkICgwUDQwLCwwZEhMPFB0aHx4dGhwcICQuJyAiLCMcHCg3KSwwMTQ0NB8nOT04MjwuMzQy/9sAQwEJCQkMCwwYDQ0YMiEcITIyMjIyMjIyMjIyMjIyMjIyMjIyMjIyMjIyMjIyMjIyMjIyMjIyMjIyMjIyMjIyMjIy/8AAEQgAkAEAAwEhAAIRAQMRAf/EAB8AAAEFAQEBAQEBAAAAAAAAAAABAgMEBQYHCAkKC//EALUQAAIBAwMCBAMFBQQEAAABfQECAwAEEQUSITFBBhNRYQcicRQygZGhCCNCscEVUtHwJDNicoIJChYXGBkaJSYnKCkqNDU2Nzg5OkNERUZHSElKU1RVVldYWVpjZGVmZ2hpanN0dXZ3eHl6g4SFhoeIiYqSk5SVlpeYmZqio6Slpqeoqaqys7S1tre4ubrCw8TFxsfIycrS09TV1tfY2drh4uPk5ebn6Onq8fLz9PX29/j5+v/EAB8BAAMBAQEBAQEBAQEAAAAAAAABAgMEBQYHCAkKC//EALURAAIBAgQEAwQHBQQEAAECdwABAgMRBAUhMQYSQVEHYXETIjKBCBRCkaGxwQkjM1LwFWJy0QoWJDThJfEXGBkaJicoKSo1Njc4OTpDREVGR0hJSlNUVVZXWFlaY2RlZmdoaWpzdHV2d3h5eoKDhIWGh4iJipKTlJWWl5iZmqKjpKWmp6ipqrKztLW2t7i5usLDxMXGx8jJytLT1NXW19jZ2uLj5OXm5+jp6vLz9PX29/j5+v/aAAwDAQACEQMRAD8A9/ooAKKACigAooAKy/EepT6RoF3f2sImnhUFIyM7iSB0yPX1oAwtH8W32oalY2k0Fskk8cjyQ/MsibWdQSMkLnao25J5b05iuviJFFaQyx6Vdh5iyBZFwUcAAhgPRiVP0OM0ASr8QbQ3FpbjT7x5JzGrbFBEZZ3TB9xszj0IqVvHVsugzaobC5Aiufs5hI+cnrn8v/196AGN48i3TlNKu3SETs21k3bYshjtzkZI4HcEH6V5PiTbRF1bSbzckRfjDBiGwcEZBHfPX2oAs6941OmJYfZbF5jdpHLuboqN7ZyT/wDWrKg+ImoRXTHUNFk+zFVMf2dcuS0kijPPpGT9SOncA0R8QIvMKNo9+D5DzLwDkLnHOcDO0/mPWkl8aXsunajPa6UyS2zWyRJIQxcyS+W3AI6HOORnHUUAZ0nj/VI9PlujY26yQxhvszqwknJZx8oBO3btGR83cZHWuo0PxIms3l3afZZYJbULuLjh8jqPb/JxQBuUUAFFABRQAUUAFFABUF2kslrIsDbZCODnH60AZn2TVWFuv2hk2xFXZZMnO046jBOdvJ9D61ZR71rr7Ks0SGK3id2eMuWZiwPcf3f1oAm8q/8A+fq3/wDAc/8AxdHlX/8Az9W//gOf/i6AGvHqWw+XdW27tut2x/6HTvKv/wDn6t//AAHP/wAXQAeVf/8AP1b/APgOf/i6Qw3xGDdWxHvbn/4ugCMWt+Lhn8+z27RtYWx3Z5z/AB/T9aebW7J5ntTj1tj/APF0AJ9lu858+1znP/Hsev8A33TZLW+8plSezyTnDWxxn/vugB4trwEkT2uT1P2Y8/8Aj9N+yXWMedadMf8AHqenp9+gBzW142N1xanHTNseP/H6Z9mvzIwM9n5eBt/0Y5zk5/j+n60AP+zXmc+fa9Mf8ex6f990fZrz/nva/wDgMf8A4ugBklrfFcpPZlx0LWx79f46etveqSVuLYE9SLY8/wDj9ADvKv8A/n6t/wDwHP8A8XR5V/8A8/Vv/wCA5/8Ai6AGiPUvMbN1beXgY/0ds55z/H9P1p3lX/8Az9W//gOf/i6ADyr/AP5+rf8A8Bz/APF1FcNf20JlNxbuFIyvkEZ5A67qANCigAooAKKACqUX/Icuv+vaH/0KWgC7RQAUUAFFABRQAUUAFFABRQAUUAFFABRQAUUAFVNS/wCPCT6r/wChCgC3RQAUUAFFABVKL/kOXX/XtD/6FLQBdooAKKACigAooAKKACigAooAKKACigAooAKKACqmpf8AHhJ9V/8AQhQBbooAKKACqF7aXU19bTQyKI487lLEd1PYc5AI59aAMmXQ9Vf7t4i9N2JWyeMN24LHnvjHetCxhli1R0kmJeOzgV8Ywx3ScnIz/KgDVooAKKACigAooAKKACigAooAKKACigAooAKKACqWqqWsGw7LhlJxjnkcc0AXaKACigAooAKpRf8AIcuv+vaH/wBCloAu0UAFFABRQAUUAFFABRQAUUAFFABRQAUUAFFABVTUv+PCT6r/AOhCgC3RQAUUAFFABVKL/kOXX/XtD/6FLQBdooAKKACigAooAKKACigAooAKKACigCK5nW1tZZ3BKxqWIHU4rKk8SQRbN0EuWLpgY4dd+V/8htz9KAKsnjKzhQyTW88cYI+ZlxkHjPPbPFSr4pgePcLaYEAgq2FIYEArg855zQBvK25FbBGRnB6iqupf8eEn1X/0IUAW6KACigAqheae91e21wswTyc/KVznkHjkY6Y+hoAyZfC0smMX+zlSdsX3sDBz83O7+L1rRsrdodVkjaVmMVnApI4DfNJzigDUooAKKACigAooAKKACigAooAKjaeJJNjSIr7S20sAcetAEZv7MDJuocEbvvjpnGfzpP7Qs84+1Q5543jsMn8hQBXv7yCXS78QzRSOlu7FQQ2PlOMj04r5mPjHxD0/tI4ClB+5j+6eo+70ruwVGNS/MJjf+Ev1/Of7Q5zn/URf/E+5rf8ABPiDVNT8Y6XZX1wlxayS7Gie3jwR1x931AP1FddXC04020ugI+jAAAABgCqeqrusG+ZhhlPB68ivGGXaKACigAooAKpRf8hy6/69of8A0KWgC7RQAUUAFFABRQAUUAFFABRQAV518RvEll4bv7YXVrcTm+tpIz5TKu1RweT3xIf09K0pU3UkooDiJfiTpM24vpV2SxLH5kxuJHI9MbRgdjzVi1+KelWq/LpN4zrEYo2aRDtG0KD05OBz6811/wBn1BXO68J6naa14K1LUbW3kh3JJEwlILYVOBkduSce5r5yPWtsDHllOL6W/UGFdP8ADv8A5H/R/wDrv/Q121/4UvQR9QVU1L/jwk+q/wDoQr50ot0UAFFABRkUAJkeoqnF/wAhu6/69of/AEKWgC7RQAUUAFFABRQAUUAFFABRQAV4n8d/+Qjof/XGb+aV1YP+MgZ5JRXuknu3wt/5JdqP/XSf/wBAFeEnrXDhf4tT1/zH0Cun+Hf/ACP+j/8AXf8Aoa6a/wDCl6CPqCqmpf8AHhJ9V/8AQhXzpRbooAKKACqF7pxur22uQ4Uw54Iz3U8en3cGgDMHhg79wuinGCUTBI27T+LdTV2ythDqroXZmhs4EBBIB5kHI6dqANWigAooAKKACigAooAKKACigArxP47/APIR0P8A64zfzSurB/xkDPJKK90k92+Fv/JLtR/66T/+gCvCj1NcOF/i1PX/ADH0Erp/h3/yP+j/APXf+hrpr/wpegj6gqlqqB7BslhtZSMMR3HXHX6V86UXaKACigAooAKpRf8AIcuv+vaH/wBCloAu0UAFFABRQAUUAFFABTZJEijaSRgqICzE9gKAKh1awVVJuUAZSwznoM5/EYPHXg+lCavp8hwt1HkkAZOMk5xjPXofyoAYdb01dh+1KQ670YAlWGQMg4weSPzryL46kNf6EykEGGYgj6pXVg/4yBnktFe6Se7fC3/kl2o/9dJ//QBXhJ61w4X+LU9f8x9Arp/h3/yP+j/9d/6Gumv/AApegj6gqpqX/HhJ9V/9CFfOlFuigAooAKa0iKyqzqGb7oJ5NAEZurcZzPHxn+MdqrwkNrV0QQQbaEgj/eloAvUUAFFABRQAUUAFFABVXUtn9l3ZdSyiFyQDjOAaAPBm+KAbAbSAdpdgftB+827LdOvzt+dNi+JyxTrMdH8yRHV0LXTfLtzgDAHHJ46cn1NeksubXxCuauk/EVNe1az0ebSESK9mjgZ1mJKhpN2Rkepp3xzRYr3QY0GFWCZQPYFKVOg6OIjFu4Hk1FesI92+Fv8AyS7Uf+uk/wD6AK8KPU1w4X+LU9f8x9BK6f4d/wDI/wCj/wDXf+hrpr/wpegj6gqpqX/HhJ9V/wDQhXzpRbooAKKACqV3py3V3b3HmFWh7YznkH8OVoAzT4ZTO6O6KuAApMYPRdo/TOffnjFXLW3ji1iVdq5itIVUgYwN0nT8qANOigAooAKKACigCJ7mCOeOB5o1lkzsQsAWx1wO9V11jTGUMuoWpUqXBEq4Kjv16UAH9sab5hj/ALQtd4LAr5q5BGc9+2D+Rqve6hZXel38dtdQzOts7FY3DEAqcHimtwPk5vvH60lfSx2RJueDP+R30P8A6/of/QxXf/Hf/kI6H/1xm/mlcVT/AHqI+h5JRXcI92+Fv/JLtR/66T/+gCvCT1rhwv8AFqev+Y+gV0/w7/5H/R/+u/8AQ101/wCFL0EfUFUtVRXsG3KDtZSM9jkV86UXaKACigAooAKpRf8AIcuv+vaH/wBCloAu0UAFFAGdrcVxLpkgtplidfmLs5UADqcgE8dffFee3njnS5prho/EUEe8/Lh5flOwgN9zs2Djoe+KuFOc/hVwKjeMbNmk2eK4IQ0JRf8AWvhvm7bR1ypznjpg4zWnB4vs9R1SC0tvEdtLLcXR8twsqFd20KoTBB59SP1yLeHqpXcQG+N/E8ngz+w0u7I6ldPC4eRbnygSu0Z5Vic7j6VxafFO3QYPhxnGOQ2o9TtZQf8AVdcMRW9LByqQ5kxXHR/FdIblZk0GQYzhf7RBAzuI/wCWPUF2x9a7zwdfQa94U1HWY7RrWQxzQtH5okB+UHJIVc9sZHHOOtKthZUoqTYXPnxvvH60le1HZCNzwZ/yO+h/9f0P/oYrv/jv/wAhHQ/+uM380riqf71EfQ8koruEe7fC3/kl2o/9dJ//AEAV4Ueprhwv8Wp6/wCY+gldP8O/+R/0f/rv/Q101/4UvQR9QVU1L/jwk+q/+hCvnSi3RQAUUAFFADJZY4ImlldUjXqzHAFUoZEbWLhw6lWtYSrA8H5paAL3mJ/fX86PMT++v50AMkuIYkLvKoUdTmqOs389naCSzjE0mSNoUvn5SQOOmSAM9BmgCbU5EOk3mHX/AFD9/wDZNfJDK29vlPX0r0sukk5XExu1v7p/KtvwepHjTQyQQBfwdv8AbFd9WcXTlr0BHoHx1+e/0Lb82Ip8457x15Jtb+6fyrHBySoq4Btb+6fyr3T4WkL8MtRDEA+ZPwf9wVOOknTVu4I8MKtuPynr6Um1v7p/KuuM423Ebng0EeNtDJBAF9D1/wB8V33x1+fUdD2/NiKbpz3SuKpJfWosfQ8l2t/dP5UbW/un8q7uePcR7r8LiF+F+ohiAfMn4P8AuCvCyrZ+6fyrhw0kqtS4+gm1v7p/Kun+HgI8faOSCAJ+p+hrprzj7KWvQR9O+Yn99fzqrqLqbCQBgTle/wDtCvnyi5RQAUUAFFAEN1bJd25hkJA3KwKnkFSGB/MCmCwtvJjieCOQRrtXeoYgUAH9n2X/AD52/wD36X/CkOm2J62VufrEv+FAFK+i0+yaEHTLdxK2xSI1+/2Xp3559vepLG2sLy3Mp023jIkkjKmNT91yvp3xmgCz/ZtiBgWVv/36X/CkOmWGP+PG2/79L/hTTa2AyEutOe5ihGl2q75TF8wUNuH3gBjnGR/nrrjTLD/nytv+/S/4Uc0u4CnTbE9bK3P1iX/CqV9Hp9k0IOmW7iU7FIjX7/YdO4zz7e9CbWzANOj0/UIZHGn2q+XIYztRWB4ByDj3q6NNsR0srf8A79L/AIUNt7sCveWmn2lq9wdPt2WPBYCJeFzyenYZP4Vj/wBq6Uk/ly6VbrnYcqqthWJyTxxjGfoafNLuB0H9mWH/AD5W3/fpf8KDptietlbH/tkv+FK7vcDIv7jTrGWWI6VbM8a72yqqNnHOcdSTgDvg+lO0WbTtYjkddMtY9mDgIrcHPXgc8U+aXcDV/s6xAwLO3/79L/hUcun6fFC8hsbY7FLH90vb8KSbQGZb3Ol3NzFHFp9mySbRkBS2Su7IGOVHTOeoIrXGmWA6WVt/36X/AAo5n3AX+z7L/nzt/wDv0v8AhTlsbRGDJawKw5BEYBFICeigAooAKKACigAooAKKACigBMD0FLQAUUAIAB0GKWgApNo9B+VAC0UAJgHqBQAB0GKAFooATaB0A/KloAKKACigAooA/9n//gAZTUFUTEFCIEhhbmRsZSBHcmFwaGljcwD//gAeTUFUTEFCLCBUaGUgTWF0aFdvcmtzLCBJbmMuAP/hMeRodHRwOi8vbnMuYWRvYmUuY29tL3hhcC8xLjAvADw/eHBhY2tldCBiZWdpbj0n77u/JyBpZD0nVzVNME1wQ2VoaUh6cmVTek5UY3prYzlkJz8+DQo8eDp4bXBtZXRhIHhtbG5zOng9ImFkb2JlOm5zOm1ldGEvIj48cmRmOlJERiB4bWxuczpyZGY9Imh0dHA6Ly93d3cudzMub3JnLzE5OTkvMDIvMjItcmRmLXN5bnRheC1ucyMiPjxyZGY6RGVzY3JpcHRpb24gcmRmOmFib3V0PSJ1dWlkOmZhZjViZGQ1LWJhM2QtMTFkYS1hZDMxLWQzM2Q3NTE4MmYxYiIgeG1sbnM6eG1wPSJodHRwOi8vbnMuYWRvYmUuY29tL3hhcC8xLjAvIj48eG1wOkNyZWF0b3JUb29sPldpbmRvd3MgUGhvdG8gRWRpdG9yIDEwLjAuMTAwMTEuMTYzODQ8L3htcDpDcmVhdG9yVG9vbD48eG1wOkNyZWF0ZURhdGU+MjAyMS0wNy0yMlQxOToxMjo0ODwveG1wOkNyZWF0ZURhdGU+PC9yZGY6RGVzY3JpcHRpb24+PC9yZGY6UkRGPjwveDp4bXBtZXRhPg0KICAgICAgICAgICAgICAgICAgICAgICAgICAgICAgICAgICAgICAgICAgICAgICAgICAgICAgICAgICAgICAgICAgICAgICAgICAgICAgICAgICAgICAgICAgICAgICAgICAgIAogICAgICAgICAgICAgICAgICAgICAgICAgICAgICAgICAgICAgICAgICAgICAgICAgICAgICAgICAgICAgICAgICAgICAgICAgICAgICAgICAgICAgICAgICAgICAgICAgICAgCiAgICAgICAgICAgICAgICAgICAgICAgICAgICAgICAgICAgICAgICAgICAgICAgICAgICAgICAgICAgICAgICAgICAgICAgICAgICAgICAgICAgICAgICAgICAgICAgICAgICAKICAgICAgICAgICAgICAgICAgICAgICAgICAgICAgICAgICAgICAgICAgICAgICAgICAgICAgICAgICAgICAgICAgICAgICAgICAgICAgICAgICAgICAgICAgICAgICAgICAgIAogICAgICAgICAgICAgICAgICAgICAgICAgICAgICAgICAgICAgICAgICAgICAgICAgICAgICAgICAgICAgICAgICAgICAgICAgICAgICAgICAgICAgICAgICAgICAgICAgICAgCiAgICAgICAgICAgICAgICAgICAgICAgICAgICAgICAgICAgICAgICAgICAgICAgICAgICAgICAgICAgICAgICAgICAgICAgICAgICAgICAgICAgICAgICAgICAgICAgICAgICAKICAgICAgICAgICAgICAgICAgICAgICAgICAgICAgICAgICAgICAgICAgICAgICAgICAgICAgICAgICAgICAgICAgICAgICAgICAgICAgICAgICAgICAgICAgICAgICAgICAgIAogICAgICAgICAgICAgICAgICAgICAgICAgICAgICAgICAgICAgICAgICAgICAgICAgICAgICAgICAgICAgICAgICAgICAgICAgICAgICAgICAgICAgICAgICAgICAgICAgICAgCiAgICAgICAgICAgICAgICAgICAgICAgICAgICAgICAgICAgICAgICAgICAgICAgICAgICAgICAgICAgICAgICAgICAgICAgICAgICAgICAgICAgICAgICAgICAgICAgICAgICAKICAgICAgICAgICAgICAgICAgICAgICAgICAgICAgICAgICAgICAgICAgICAgICAgICAgICAgICAgICAgICAgICAgICAgICAgICAgICAgICAgICAgICAgICAgICAgICAgICAgIAogICAgICAgICAgICAgICAgICAgICAgICAgICAgICAgICAgICAgICAgICAgICAgICAgICAgICAgICAgICAgICAgICAgICAgICAgICAgICAgICAgICAgICAgICAgICAgICAgICAgCiAgICAgICAgICAgICAgICAgICAgICAgICAgICAgICAgICAgICAgICAgICAgICAgICAgICAgICAgICAgICAgICAgICAgICAgICAgICAgICAgICAgICAgICAgICAgICAgICAgICAKICAgICAgICAgICAgICAgICAgICAgICAgICAgICAgICAgICAgICAgICAgICAgICAgICAgICAgICAgICAgICAgICAgICAgICAgICAgICAgICAgICAgICAgICAgICAgICAgICAgIAogICAgICAgICAgICAgICAgICAgICAgICAgICAgICAgICAgICAgICAgICAgICAgICAgICAgICAgICAgICAgICAgICAgICAgICAgICAgICAgICAgICAgICAgICAgICAgICAgICAgCiAgICAgICAgICAgICAgICAgICAgICAgICAgICAgICAgICAgICAgICAgICAgICAgICAgICAgICAgICAgICAgICAgICAgICAgICAgICAgICAgICAgICAgICAgICAgICAgICAgICAKICAgICAgICAgICAgICAgICAgICAgICAgICAgICAgICAgICAgICAgICAgICAgICAgICAgICAgICAgICAgICAgICAgICAgICAgICAgICAgICAgICAgICAgICAgICAgICAgICAgIAogICAgICAgICAgICAgICAgICAgICAgICAgICAgICAgICAgICAgICAgICAgICAgICAgICAgICAgICAgICAgICAgICAgICAgICAgICAgICAgICAgICAgICAgICAgICAgICAgICAgCiAgICAgICAgICAgICAgICAgICAgICAgICAgICAgICAgICAgICAgICAgICAgICAgICAgICAgICAgICAgICAgICAgICAgICAgICAgICAgICAgICAgICAgICAgICAgICAgICAgICAKICAgICAgICAgICAgICAgICAgICAgICAgICAgICAgICAgICAgICAgICAgICAgICAgICAgICAgICAgICAgICAgICAgICAgICAgICAgICAgICAgICAgICAgICAgICAgICAgICAgIAogICAgICAgICAgICAgICAgICAgICAgICAgICAgICAgICAgICAgICAgICAgICAgICAgICAgICAgICAgICAgICAgICAgICAgICAgICAgICAgICAgICAgICAgICAgICAgICAgICAgCiAgICAgICAgICAgICAgICAgICAgICAgICAgICAgICAgICAgICAgICAgICAgICAgICAgICAgICAgICAgICAgICAgICAgICAgICAgICAgICAgICAgICAgICAgICAgICAgICAgICAKICAgICAgICAgICAgICAgICAgICAgICAgICAgICAgICAgICAgICAgICAgICAgICAgICAgICAgICAgICAgICAgICAgICAgICAgICAgICAgICAgICAgICAgICAgICAgICAgICAgIAogICAgICAgICAgICAgICAgICAgICAgICAgICAgICAgICAgICAgICAgICAgICAgICAgICAgICAgICAgICAgICAgICAgICAgICAgICAgICAgICAgICAgICAgICAgICAgICAgICAgCiAgICAgICAgICAgICAgICAgICAgICAgICAgICAgICAgICAgICAgICAgICAgICAgICAgICAgICAgICAgICAgICAgICAgICAgICAgICAgICAgICAgICAgICAgICAgICAgICAgICAKICAgICAgICAgICAgICAgICAgICAgICAgICAgICAgICAgICAgICAgICAgICAgICAgICAgICAgICAgICAgICAgICAgICAgICAgICAgICAgICAgICAgICAgICAgICAgICAgICAgIAogICAgICAgICAgICAgICAgICAgICAgICAgICAgICAgICAgICAgICAgICAgICAgICAgICAgICAgICAgICAgICAgICAgICAgICAgICAgICAgICAgICAgICAgICAgICAgICAgICAgCiAgICAgICAgICAgICAgICAgICAgICAgICAgICAgICAgICAgICAgICAgICAgICAgICAgICAgICAgICAgICAgICAgICAgICAgICAgICAgICAgICAgICAgICAgICAgICAgICAgICAKICAgICAgICAgICAgICAgICAgICAgICAgICAgICAgICAgICAgICAgICAgICAgICAgICAgICAgICAgICAgICAgICAgICAgICAgICAgICAgICAgICAgICAgICAgICAgICAgICAgIAogICAgICAgICAgICAgICAgICAgICAgICAgICAgICAgICAgICAgICAgICAgICAgICAgICAgICAgICAgICAgICAgICAgICAgICAgICAgICAgICAgICAgICAgICAgICAgICAgICAgCiAgICAgICAgICAgICAgICAgICAgICAgICAgICAgICAgICAgICAgICAgICAgICAgICAgICAgICAgICAgICAgICAgICAgICAgICAgICAgICAgICAgICAgICAgICAgICAgICAgICAKICAgICAgICAgICAgICAgICAgICAgICAgICAgICAgICAgICAgICAgICAgICAgICAgICAgICAgICAgICAgICAgICAgICAgICAgICAgICAgICAgICAgICAgICAgICAgICAgICAgIAogICAgICAgICAgICAgICAgICAgICAgICAgICAgICAgICAgICAgICAgICAgICAgICAgICAgICAgICAgICAgICAgICAgICAgICAgICAgICAgICAgICAgICAgICAgICAgICAgICAgCiAgICAgICAgICAgICAgICAgICAgICAgICAgICAgICAgICAgICAgICAgICAgICAgICAgICAgICAgICAgICAgICAgICAgICAgICAgICAgICAgICAgICAgICAgICAgICAgICAgICAKICAgICAgICAgICAgICAgICAgICAgICAgICAgICAgICAgICAgICAgICAgICAgICAgICAgICAgICAgICAgICAgICAgICAgICAgICAgICAgICAgICAgICAgICAgICAgICAgICAgIAogICAgICAgICAgICAgICAgICAgICAgICAgICAgICAgICAgICAgICAgICAgICAgICAgICAgICAgICAgICAgICAgICAgICAgICAgICAgICAgICAgICAgICAgICAgICAgICAgICAgCiAgICAgICAgICAgICAgICAgICAgICAgICAgICAgICAgICAgICAgICAgICAgICAgICAgICAgICAgICAgICAgICAgICAgICAgICAgICAgICAgICAgICAgICAgICAgICAgICAgICAKICAgICAgICAgICAgICAgICAgICAgICAgICAgICAgICAgICAgICAgICAgICAgICAgICAgICAgICAgICAgICAgICAgICAgICAgICAgICAgICAgICAgICAgICAgICAgICAgICAgIAogICAgICAgICAgICAgICAgICAgICAgICAgICAgICAgICAgICAgICAgICAgICAgICAgICAgICAgICAgICAgICAgICAgICAgICAgICAgICAgICAgICAgICAgICAgICAgICAgICAgCiAgICAgICAgICAgICAgICAgICAgICAgICAgICAgICAgICAgICAgICAgICAgICAgICAgICAgICAgICAgICAgICAgICAgICAgICAgICAgICAgICAgICAgICAgICAgICAgICAgICAKICAgICAgICAgICAgICAgICAgICAgICAgICAgICAgICAgICAgICAgICAgICAgICAgICAgICAgICAgICAgICAgICAgICAgICAgICAgICAgICAgICAgICAgICAgICAgICAgICAgIAogICAgICAgICAgICAgICAgICAgICAgICAgICAgICAgICAgICAgICAgICAgICAgICAgICAgICAgICAgICAgICAgICAgICAgICAgICAgICAgICAgICAgICAgICAgICAgICAgICAgCiAgICAgICAgICAgICAgICAgICAgICAgICAgICAgICAgICAgICAgICAgICAgICAgICAgICAgICAgICAgICAgICAgICAgICAgICAgICAgICAgICAgICAgICAgICAgICAgICAgICAKICAgICAgICAgICAgICAgICAgICAgICAgICAgICAgICAgICAgICAgICAgICAgICAgICAgICAgICAgICAgICAgICAgICAgICAgICAgICAgICAgICAgICAgICAgICAgICAgICAgIAogICAgICAgICAgICAgICAgICAgICAgICAgICAgICAgICAgICAgICAgICAgICAgICAgICAgICAgICAgICAgICAgICAgICAgICAgICAgICAgICAgICAgICAgICAgICAgICAgICAgCiAgICAgICAgICAgICAgICAgICAgICAgICAgICAgICAgICAgICAgICAgICAgICAgICAgICAgICAgICAgICAgICAgICAgICAgICAgICAgICAgICAgICAgICAgICAgICAgICAgICAKICAgICAgICAgICAgICAgICAgICAgICAgICAgICAgICAgICAgICAgICAgICAgICAgICAgICAgICAgICAgICAgICAgICAgICAgICAgICAgICAgICAgICAgICAgICAgICAgICAgIAogICAgICAgICAgICAgICAgICAgICAgICAgICAgICAgICAgICAgICAgICAgICAgICAgICAgICAgICAgICAgICAgICAgICAgICAgICAgICAgICAgICAgICAgICAgICAgICAgICAgCiAgICAgICAgICAgICAgICAgICAgICAgICAgICAgICAgICAgICAgICAgICAgICAgICAgICAgICAgICAgICAgICAgICAgICAgICAgICAgICAgICAgICAgICAgICAgICAgICAgICAKICAgICAgICAgICAgICAgICAgICAgICAgICAgICAgICAgICAgICAgICAgICAgICAgICAgICAgICAgICAgICAgICAgICAgICAgICAgICAgICAgICAgICAgICAgICAgICAgICAgIAogICAgICAgICAgICAgICAgICAgICAgICAgICAgICAgICAgICAgICAgICAgICAgICAgICAgICAgICAgICAgICAgICAgICAgICAgICAgICAgICAgICAgICAgICAgICAgICAgICAgCiAgICAgICAgICAgICAgICAgICAgICAgICAgICAgICAgICAgICAgICAgICAgICAgICAgICAgICAgICAgICAgICAgICAgICAgICAgICAgICAgICAgICAgICAgICAgICAgICAgICAKICAgICAgICAgICAgICAgICAgICAgICAgICAgICAgICAgICAgICAgICAgICAgICAgICAgICAgICAgICAgICAgICAgICAgICAgICAgICAgICAgICAgICAgICAgICAgICAgICAgIAogICAgICAgICAgICAgICAgICAgICAgICAgICAgICAgICAgICAgICAgICAgICAgICAgICAgICAgICAgICAgICAgICAgICAgICAgICAgICAgICAgICAgICAgICAgICAgICAgICAgCiAgICAgICAgICAgICAgICAgICAgICAgICAgICAgICAgICAgICAgICAgICAgICAgICAgICAgICAgICAgICAgICAgICAgICAgICAgICAgICAgICAgICAgICAgICAgICAgICAgICAKICAgICAgICAgICAgICAgICAgICAgICAgICAgICAgICAgICAgICAgICAgICAgICAgICAgICAgICAgICAgICAgICAgICAgICAgICAgICAgICAgICAgICAgICAgICAgICAgICAgIAogICAgICAgICAgICAgICAgICAgICAgICAgICAgICAgICAgICAgICAgICAgICAgICAgICAgICAgICAgICAgICAgICAgICAgICAgICAgICAgICAgICAgICAgICAgICAgICAgICAgCiAgICAgICAgICAgICAgICAgICAgICAgICAgICAgICAgICAgICAgICAgICAgICAgICAgICAgICAgICAgICAgICAgICAgICAgICAgICAgICAgICAgICAgICAgICAgICAgICAgICAKICAgICAgICAgICAgICAgICAgICAgICAgICAgICAgICAgICAgICAgICAgICAgICAgICAgICAgICAgICAgICAgICAgICAgICAgICAgICAgICAgICAgICAgICAgICAgICAgICAgIAogICAgICAgICAgICAgICAgICAgICAgICAgICAgICAgICAgICAgICAgICAgICAgICAgICAgICAgICAgICAgICAgICAgICAgICAgICAgICAgICAgICAgICAgICAgICAgICAgICAgCiAgICAgICAgICAgICAgICAgICAgICAgICAgICAgICAgICAgICAgICAgICAgICAgICAgICAgICAgICAgICAgICAgICAgICAgICAgICAgICAgICAgICAgICAgICAgICAgICAgICAKICAgICAgICAgICAgICAgICAgICAgICAgICAgICAgICAgICAgICAgICAgICAgICAgICAgICAgICAgICAgICAgICAgICAgICAgICAgICAgICAgICAgICAgICAgICAgICAgICAgIAogICAgICAgICAgICAgICAgICAgICAgICAgICAgICAgICAgICAgICAgICAgICAgICAgICAgICAgICAgICAgICAgICAgICAgICAgICAgICAgICAgICAgICAgICAgICAgICAgICAgCiAgICAgICAgICAgICAgICAgICAgICAgICAgICAgICAgICAgICAgICAgICAgICAgICAgICAgICAgICAgICAgICAgICAgICAgICAgICAgICAgICAgICAgICAgICAgICAgICAgICAKICAgICAgICAgICAgICAgICAgICAgICAgICAgICAgICAgICAgICAgICAgICAgICAgICAgICAgICAgICAgICAgICAgICAgICAgICAgICAgICAgICAgICAgICAgICAgICAgICAgIAogICAgICAgICAgICAgICAgICAgICAgICAgICAgICAgICAgICAgICAgICAgICAgICAgICAgICAgICAgICAgICAgICAgICAgICAgICAgICAgICAgICAgICAgICAgICAgICAgICAgCiAgICAgICAgICAgICAgICAgICAgICAgICAgICAgICAgICAgICAgICAgICAgICAgICAgICAgICAgICAgICAgICAgICAgICAgICAgICAgICAgICAgICAgICAgICAgICAgICAgICAKICAgICAgICAgICAgICAgICAgICAgICAgICAgICAgICAgICAgICAgICAgICAgICAgICAgICAgICAgICAgICAgICAgICAgICAgICAgICAgICAgICAgICAgICAgICAgICAgICAgIAogICAgICAgICAgICAgICAgICAgICAgICAgICAgICAgICAgICAgICAgICAgICAgICAgICAgICAgICAgICAgICAgICAgICAgICAgICAgICAgICAgICAgICAgICAgICAgICAgICAgCiAgICAgICAgICAgICAgICAgICAgICAgICAgICAgICAgICAgICAgICAgICAgICAgICAgICAgICAgICAgICAgICAgICAgICAgICAgICAgICAgICAgICAgICAgICAgICAgICAgICAKICAgICAgICAgICAgICAgICAgICAgICAgICAgICAgICAgICAgICAgICAgICAgICAgICAgICAgICAgICAgICAgICAgICAgICAgICAgICAgICAgICAgICAgICAgICAgICAgICAgIAogICAgICAgICAgICAgICAgICAgICAgICAgICAgICAgICAgICAgICAgICAgICAgICAgICAgICAgICAgICAgICAgICAgICAgICAgICAgICAgICAgICAgICAgICAgICAgICAgICAgCiAgICAgICAgICAgICAgICAgICAgICAgICAgICAgICAgICAgICAgICAgICAgICAgICAgICAgICAgICAgICAgICAgICAgICAgICAgICAgICAgICAgICAgICAgICAgICAgICAgICAKICAgICAgICAgICAgICAgICAgICAgICAgICAgICAgICAgICAgICAgICAgICAgICAgICAgICAgICAgICAgICAgICAgICAgICAgICAgICAgICAgICAgICAgICAgICAgICAgICAgIAogICAgICAgICAgICAgICAgICAgICAgICAgICAgICAgICAgICAgICAgICAgICAgICAgICAgICAgICAgICAgICAgICAgICAgICAgICAgICAgICAgICAgICAgICAgICAgICAgICAgCiAgICAgICAgICAgICAgICAgICAgICAgICAgICAgICAgICAgICAgICAgICAgICAgICAgICAgICAgICAgICAgICAgICAgICAgICAgICAgICAgICAgICAgICAgICAgICAgICAgICAKICAgICAgICAgICAgICAgICAgICAgICAgICAgICAgICAgICAgICAgICAgICAgICAgICAgICAgICAgICAgICAgICAgICAgICAgICAgICAgICAgICAgICAgICAgICAgICAgICAgIAogICAgICAgICAgICAgICAgICAgICAgICAgICAgICAgICAgICAgICAgICAgICAgICAgICAgICAgICAgICAgICAgICAgICAgICAgICAgICAgICAgICAgICAgICAgICAgICAgICAgCiAgICAgICAgICAgICAgICAgICAgICAgICAgICAgICAgICAgICAgICAgICAgICAgICAgICAgICAgICAgICAgICAgICAgICAgICAgICAgICAgICAgICAgICAgICAgICAgICAgICAKICAgICAgICAgICAgICAgICAgICAgICAgICAgICAgICAgICAgICAgICAgICAgICAgICAgICAgICAgICAgICAgICAgICAgICAgICAgICAgICAgICAgICAgICAgICAgICAgICAgIAogICAgICAgICAgICAgICAgICAgICAgICAgICAgICAgICAgICAgICAgICAgICAgICAgICAgICAgICAgICAgICAgICAgICAgICAgICAgICAgICAgICAgICAgICAgICAgICAgICAgCiAgICAgICAgICAgICAgICAgICAgICAgICAgICAgICAgICAgICAgICAgICAgICAgICAgICAgICAgICAgICAgICAgICAgICAgICAgICAgICAgICAgICAgICAgICAgICAgICAgICAKICAgICAgICAgICAgICAgICAgICAgICAgICAgICAgICAgICAgICAgICAgICAgICAgICAgICAgICAgICAgICAgICAgICAgICAgICAgICAgICAgICAgICAgICAgICAgICAgICAgIAogICAgICAgICAgICAgICAgICAgICAgICAgICAgICAgICAgICAgICAgICAgICAgICAgICAgICAgICAgICAgICAgICAgICAgICAgICAgICAgICAgICAgICAgICAgICAgICAgICAgCiAgICAgICAgICAgICAgICAgICAgICAgICAgICAgICAgICAgICAgICAgICAgICAgICAgICAgICAgICAgICAgICAgICAgICAgICAgICAgICAgICAgICAgICAgICAgICAgICAgICAKICAgICAgICAgICAgICAgICAgICAgICAgICAgICAgICAgICAgICAgICAgICAgICAgICAgICAgICAgICAgICAgICAgICAgICAgICAgICAgICAgICAgICAgICAgICAgICAgICAgIAogICAgICAgICAgICAgICAgICAgICAgICAgICAgICAgICAgICAgICAgICAgICAgICAgICAgICAgICAgICAgICAgICAgICAgICAgICAgICAgICAgICAgICAgICAgICAgICAgICAgCiAgICAgICAgICAgICAgICAgICAgICAgICAgICAgICAgICAgICAgICAgICAgICAgICAgICAgICAgICAgICAgICAgICAgICAgICAgICAgICAgICAgICAgICAgICAgICAgICAgICAKICAgICAgICAgICAgICAgICAgICAgICAgICAgICAgICAgICAgICAgICAgICAgICAgICAgICAgICAgICAgICAgICAgICAgICAgICAgICAgICAgICAgICAgICAgICAgICAgICAgIAogICAgICAgICAgICAgICAgICAgICAgICAgICAgICAgICAgICAgICAgICAgICAgICAgICAgICAgICAgICAgICAgICAgICAgICAgICAgICAgICAgICAgICAgICAgICAgICAgICAgCiAgICAgICAgICAgICAgICAgICAgICAgICAgICAgICAgICAgICAgICAgICAgICAgICAgICAgICAgICAgICAgICAgICAgICAgICAgICAgICAgICAgICAgICAgICAgICAgICAgICAKICAgICAgICAgICAgICAgICAgICAgICAgICAgICAgICAgICAgICAgICAgICAgICAgICAgICAgICAgICAgICAgICAgICAgICAgICAgICAgICAgICAgICAgICAgICAgICAgICAgIAogICAgICAgICAgICAgICAgICAgICAgICAgICAgICAgICAgICAgICAgICAgICAgICAgICAgICAgICAgICAgICAgICAgICAgICAgICAgICAgICAgICAgICAgICAgICAgICAgICAgCiAgICAgICAgICAgICAgICAgICAgICAgICAgICAgICAgICAgICAgICAgICAgICAgICAgICAgICAgICAgICAgICAgICAgICAgICAgICAgICAgICAgICAgICAgICAgICAgICAgICAKICAgICAgICAgICAgICAgICAgICAgICAgICAgICAgICAgICAgICAgICAgICAgICAgICAgICAgICAgICAgICAgICAgICAgICAgICAgICAgICAgICAgICAgICAgICAgICAgICAgIAogICAgICAgICAgICAgICAgICAgICAgICAgICAgICAgICAgICAgICAgICAgICAgICAgICAgICAgICAgICAgICAgICAgICAgICAgICAgICAgICAgICAgICAgICAgICAgICAgICAgCiAgICAgICAgICAgICAgICAgICAgICAgICAgICAgICAgICAgICAgICAgICAgICAgICAgICAgICAgICAgICAgICAgICAgICAgICAgICAgICAgICAgICAgICAgICAgICAgICAgICAKICAgICAgICAgICAgICAgICAgICAgICAgICAgICAgICAgICAgICAgICAgICAgICAgICAgICAgICAgICAgICAgICAgICAgICAgICAgICAgICAgICAgICAgICAgICAgICAgICAgIAogICAgICAgICAgICAgICAgICAgICAgICAgICAgICAgICAgICAgICAgICAgICAgICAgICAgICAgICAgICAgICAgICAgICAgICAgICAgICAgICAgICAgICAgICAgICAgICAgICAgCiAgICAgICAgICAgICAgICAgICAgICAgICAgICAgICAgICAgICAgICAgICAgICAgICAgICAgICAgICAgICAgICAgICAgICAgICAgICAgICAgICAgICAgICAgICAgICAgICAgICAKICAgICAgICAgICAgICAgICAgICAgICAgICAgICAgICAgICAgICAgICAgICAgICAgICAgICAgICAgICAgICAgICAgICAgICAgICAgICAgICAgICAgICAgICAgICAgICAgICAgIAogICAgICAgICAgICAgICAgICAgICAgICAgICAgICAgICAgICAgICAgICAgICAgICAgICAgICAgICAgICAgICAgICAgICAgICAgICAgICAgICAgICAgICAgICAgICAgICAgICAgCiAgICAgICAgICAgICAgICAgICAgICAgICAgICAgICAgICAgICAgICAgICAgICAgICAgICAgICAgICAgICAgICAgICAgICAgICAgICAgICAgICAgICAgICAgICAgICAgICAgICAKICAgICAgICAgICAgICAgICAgICAgICAgICAgICAgICAgICAgICAgICAgICAgICAgICAgICAgICAgICAgICAgICAgICAgICAgICAgICAgICAgICAgICAgICAgICAgICAgICAgIAogICAgICAgICAgICAgICAgICAgICAgICAgICAgICAgICAgICAgICAgICAgICAgICAgICAgICAgICAgICAgICAgICAgICAgICAgICAgICAgICAgICAgICAgICAgICAgICAgICAgCiAgICAgICAgICAgICAgICAgICAgICAgICAgICAgICAgICAgICAgICAgICAgICAgICAgICAgICAgICAgICAgICAgICAgICAgICAgICAgICAgICAgICAgICAgICAgICAgICAgICAKICAgICAgICAgICAgICAgICAgICAgICAgICAgICAgICAgICAgICAgICAgICAgICAgICAgICAgICAgICAgICAgICAgICAgICAgICAgICAgICAgICAgICAgICAgICAgICAgICAgIAogICAgICAgICAgICAgICAgICAgICAgICAgICAgICAgICAgICAgICAgICAgICAgICAgICAgICAgICAgICAgICAgICAgICAgICAgICAgICAgICAgICAgICAgICAgICAgICAgICAgCiAgICAgICAgICAgICAgICAgICAgICAgICAgICAgICAgICAgICAgICAgICAgICAgICAgICAgICAgICAgICAgICAgICAgICAgICAgICAgICAgICAgICAgICAgICAgICAgICAgICAKICAgICAgICAgICAgICAgICAgICAgICAgICAgICAgICAgICAgICAgICAgICAgICAgICAgICAgICAgICAgICAgICAgICAgICAgICAgICAgICAgICAgICAgICAgICAgICAgICAgIAogICAgICAgICAgICAgICAgICAgICAgICAgICAgICAgICAgICAgICAgICAgICAgICAgICAgICAgICAgICAgICAgICAgICAgICAgICAgICAgICAgICAgICAgICAgICAgICAgICAgCiAgICAgICAgICAgICAgICAgICAgICAgICAgICAgICAgICAgICAgICAgICAgICAgICAgICAgICAgICAgICAgICAgICAgICAgICAgICAgICAgICAgICAgICAgICAgICAgICAgICAKICAgICAgICAgICAgICAgICAgICAgICAgICAgICAgICAgICAgICAgICAgICAgICAgICAgICAgICAgICAgICAgICAgICAgICAgICAgICAgICAgICAgICAgICAgICAgICAgICAgIAogICAgICAgICAgICAgICAgICAgICAgICAgICAgICAgICAgICAgICAgICAgICAgICAgICAgICAgICAgICAgICAgICAgICAgICAgICAgICAgICAgICAgICAgICAgICAgICAgICAgCiAgICAgICAgICAgICAgICAgICAgICAgICAgICAgICAgICAgICAgICAgICAgICAgICAgICAgICAgICAgICAgICAgICAgICAgICAgICAgICAgICAgICAgICAgICAgICAgICAgICAKICAgICAgICAgICAgICAgICAgICAgICAgICAgICAgICAgICAgICAgICAgICAgICAgICAgICAgICAgICAgICAgICAgICAgICAgICAgICAgICAgICAgICAgICAgICAgICAgICAgIAogICAgICAgICAgICAgICAgICAgICAgICAgICAgICAgICAgICAgICAgICAgICAgICAgICAgICAgICAgICAgICAgICAgICAgICAgICAgICAgICAgICAgICAgICAgICAgICAgICAgCiAgICAgICAgICAgICAgICAgICAgICAgICAgICAgICAgICAgICAgICAgICAgICAgICAgICAgICAgICAgICAgICAgICAgICAgICAgICAgICAgICAgICAgICAgICAgICAgICAgICAKICAgICAgICAgICAgICAgICAgICAgICAgICAgICAgICAgICAgICAgICAgICAgICAgICAgICAgICAgICAgICAgICAgICAgICAgICAgICAgICAgICAgICAgICAgICAgICAgICAgIAogICAgICAgICAgICAgICAgICAgICAgICAgICAgICAgICAgICAgICAgICAgICAgICAgICAgICAgICAgICAgICAgICAgICAgICAgICAgICAgICAgICAgICAgICAgICAgICAgICAgCiAgICAgICAgICAgICAgICAgICAgICAgICAgICAgICAgICAgICAgICAgICAgICAgICAgICAgICAgICAgICAgICAgICAgICAgICAgICAgICAgICAgICAgICAgICAgICAgICAgICAKICAgICAgICAgICAgICAgICAgICAgICAgICAgICAgICAgICAgICAgICAgICAgICAgICAgICAgICAgICAgICAgICAgICAgICAgICAgICAgICAgICAgICAgICAgICAgICAgICAgIAogICAgICAgICAgICAgICAgICAgICAgICAgICAgICAgICAgICAgICAgICAgICAgICAgICAgICAgICAgICAgICAgICAgPD94cGFja2V0IGVuZD0ndyc/Pv/bAEMAAwICAwICAwMDAwQDAwQFCAUFBAQFCgcHBggMCgwMCwoLCw0OEhANDhEOCwsQFhARExQVFRUMDxcYFhQYEhQVFP/bAEMBAwQEBQQFCQUFCRQNCw0UFBQUFBQUFBQUFBQUFBQUFBQUFBQUFBQUFBQUFBQUFBQUFBQUFBQUFBQUFBQUFBQUFP/AABEIAVkCZQMBIgACEQEDEQH/xAAfAAABBQEBAQEBAQAAAAAAAAAAAQIDBAUGBwgJCgv/xAC1EAACAQMDAgQDBQUEBAAAAX0BAgMABBEFEiExQQYTUWEHInEUMoGRoQgjQrHBFVLR8CQzYnKCCQoWFxgZGiUmJygpKjQ1Njc4OTpDREVGR0hJSlNUVVZXWFlaY2RlZmdoaWpzdHV2d3h5eoOEhYaHiImKkpOUlZaXmJmaoqOkpaanqKmqsrO0tba3uLm6wsPExcbHyMnK0tPU1dbX2Nna4eLj5OXm5+jp6vHy8/T19vf4+fr/xAAfAQADAQEBAQEBAQEBAAAAAAAAAQIDBAUGBwgJCgv/xAC1EQACAQIEBAMEBwUEBAABAncAAQIDEQQFITEGEkFRB2FxEyIygQgUQpGhscEJIzNS8BVictEKFiQ04SXxFxgZGiYnKCkqNTY3ODk6Q0RFRkdISUpTVFVWV1hZWmNkZWZnaGlqc3R1dnd4eXqCg4SFhoeIiYqSk5SVlpeYmZqio6Slpqeoqaqys7S1tre4ubrCw8TFxsfIycrS09TV1tfY2dri4+Tl5ufo6ery8/T19vf4+fr/2gAMAwEAAhEDEQA/AP1TooooAKKKKACiiigAooooAKKKKACiiigAooooAKKKKACiiigAooooAKKKKACimsRjnpXwR/wUkjhvPjR+znp1/oGueL9KvLnWxd+HfDt1JBd34WG1KrGySRsCD833x909elAH3zRX52fsUeHr74jeJ/jDcfDy48R/DH4a3Wm/8I8mj6lrRvdU0zWVwst0kUjyPbugLABypJ2kdMJr/sn+DdNtf2oLtvhHq2t6l8MvDvh9tH8Va9fajPdWGva1uB3QeY7qzqMszx4RclV4YFwD78or5p+Ln7VU/wAD/i9r3h/xhYWVt4TPhC78S6JqcfmLLeXNr/x8WLZJBkClXG0D5XXmuZ8b/tOfEjwr8HfhZrV2fh/4U8V+LrZry9h8RS3Ui26sgkiit7K3JuLh9roHKnCEDI54APryivzy8D/tB6z+0F8Zv2P/ABZqVrHpF5e3njKyvrLT5ZFtpWgs/LVwsmGAO0sA3Kk4616F4V/bW8S+If2efgR8Q5tC0eLU/iF45tvCl/bL5vkW0Et3dwGSLL7t4W3VvmyMs3HPAB9l0V+f0P8AwUe1y++IF9PaaZoFx4Js/Ep8OtpCpetr0sQlERv0cJ5GzLbjEcEAfeFbfxz/AG4vGPwp+PGr+DHt/CHhLSNPe1Gnv4zi1GL+3kdFeWSC9hQwQBdzJh1bJQ8j7oAPuaivM/jd8Q7v4dfBzXfFmmzaCby1tkmt5Nc1L7JpmWdBmSfugySFABkwFHLV85fCP9urWtQsfjJJ4zttC1lfh/osWvQ6l4UgvLODUY3hd/K8u8+dWLKFV8FTnjpQB9s0V8j6T8dvj3o/wr1z4ieK/B/g2Xw03gu78U6c+iXk4mspktTcQW12kpzLuGAXiwAQeMcjCh/au+Mem/CPwX4j1Pwt4Pk8SfE2+0ux8F6XZ3Nz5MAuIWkee/kb+DAVgkXzAPjLbSaAPtWivibxD+2N8Ufh5p/xV8MeI/A+k658TfB1pYanb/8ACM/aZdNu7K4kRGuCjBpgIdxLKASdrEYALDN8Kft0+Lte+B/xF8VaPF4N+I+s+Hms2s4PCSX8DrHLIFlkubGdDOiQcncm7eFJ+QDdQB910V8z/sc/tM337QUHiZNQ17wVrx01oTBP4UF5bS7X3blms7tRJFsZdofJD8nAxyvxM+OvxGuP2il+FHwy0nw3NdaboC+I9X1DxLNMsbI8pjS2hEJ3K7EK28hlUE5U0AfS9Ffln+yP401JPD37K9kthDqPiPVLrxwtjf6pqFwI7eaKJyiukTbZUYnaS6sV5KbSfm8ht/C3xB1H9mWXxFND4buE8cfEK30rWNTbVNRN/qjrezIIbn+DyA4HKYbaF43CgD9qqK/OnxB+234j+C+oat4H8NaJ4NtLH4bWNhp2oaI7ahLLqt15Sm4h02QA+TFGcqjTgl+AcZyPV9D/AGrPiJ48+O3jTQ/D2h+GNP8Ah34Lt9H1nWNU1prj+0BYXliLt444kO3zwN/LEKojOd2RQB9f0V8FfA3/AIKEeJPid8QPA8Wo6T4ffwz4yvZrG203R1vm1XQ2G8QPeSMvkTJIVUEx7dgfJzjFJ44/bc+LmgeFPi/450zwt4Pm8GfDXxpP4cvY7qe5S91GFLiKFfK25jjkHmxlmYkYYgJlQCAfe1FfH3wj8Z/E7Wv29/i9ouo6lp9z4O0zTtPMdh59xm1gkR3gaCNgFEr5PnHH3goBwMDxv9tT+zLr9urQbPxD4L8UfETw/B8OxeSeH/Ct5NBMHS+uT55EcseQq8EZOS6gKTjAB+ktFflN4Z+JXjD4Z/sO/Gz4keBdRvdG8G65q9tD4OsbrWP7UvNBt5Jlhui8hdjG7BgFjZtysVY5JBb0L9pf9n3w3+xb8H9M+Lfwv1HXLPx7o2pWAudRn1i4uf8AhI1eRI3iuomcpIHyWwijBHHAFAH6L0V+enwp+L/ir4T/AA9/a08WaDotx4w1XSvilqUNrp7mSZYYzcIrSsqAuY41YuVQZwp6DJHuv7Gv7TF9+0HF4mS/1/wVrx0xoWgn8KfbLWUq4bcs1ndqJItjDaHyQ/JwMcgH0tRRRQAUUUUAFFFFABRRRQAUUUUAFFFFABRRRQAUUUUAFFFFABRRRQAUUUUAFFFFABRRRQAUUUUAFIwzj17UtMk+7nrjnHr7UAc94v8AHvhzwHa29z4i1ux0aCd9kT31wsYkYKWwN3fCseP7takep2k2nrfx3MMljJCsyzhx5ZjI3B93TaRzn0Ga8l8f+ItJ8DfHLw3r3inUbfSdE/4RzUbW31C/lSK2juPPtJWj3PwskkcROOpETY6VxFra3LfsY3XhPy5JfEJ8JyXK6LAj/afsLlxFH5X3xmIeXs9cr0oA968H/EHw38QrW5n8Na3p+uwW5VZGsblZcFgWXOOgYYIbuM+lafh3XtN8Taauo6TfQ6lYu8kSXNu++NmjkZJAD7OrKf8AdrxPRpPDfxg+L2v3GiXtrrvhGTwnZ6ff3Gk3LeTLKbqaWKDzIjglI2kLIOQs2Dw5rc/ZX0+1034L2drawQ2ltDq2tRxR26hI4411S7Cqqj7oA4AHA5xQB7JRXjOlaf4o+IHjz4hxJ8RfEHhqz0PWYdMtrHRrbTWiCHTbK5ZmNzZyvuMlzJ/Fjbtrd/4VX4n/AOiyeNv/AAD0P/5W0Aek0V5t/wAKr8T/APRZPG3/AIB6H/8AK2j/AIVX4n/6LJ42/wDAPQ//AJW0Aek0V5t/wqvxP/0WTxt/4B6H/wDK2j/hVfif/osnjb/wD0P/AOVtAHpNFebf8Kr8T/8ARZPG3/gHof8A8rabJ8KvE/y/8Xk8bcHP/Hlof6/8S2gD0uivEZvh/wDESPx9o+nRfFbxlJ4cm0y+mvL42Gib4rqOW0W3jDf2cBh0luWxtPMX3h0PS/8ACq/E/wD0WTxt/wCAeh//ACtoA9Jorzb/AIVX4n/6LJ42/wDAPQ//AJW0f8Kr8T/9Fk8bf+Aeh/8AytoA9Jorzb/hVfif/osnjb/wD0P/AOVtH/Cq/E//AEWTxt/4B6H/APK2gD0aRdwA7Z5B6GvMfiH8B9B+IvxO+HfjrVL3UINU8CzXU2mQ2rx+RK1zGiSecGjZjxGu0BhyBVj/AIVX4n/6LJ42/wDAPQ//AJW0f8Kr8T/9Fk8bf+Aeh/8AytoA4nxJ+yD4V1zx58QfFWna74l8J3njrR/7F12HQryGK2ulxt+0bXhcrcKu5d4P8R7u5ND4B/sX6N+zpq1hP4e+JHxE1PR7COaKHw1rWuJLpKCTOW+zrCgyCSwOepJroviN8PfiBonw/wDEuo+HPir401XxDZ6bc3Gm2D2Ohlbm6SJmhjP/ABLhwzhR1HXqK3YvhX4o8w5+Mnjbv/y5aIOQe3/Et6fn/iAZn7Q37L/gn9pyx8M2/jGG926DqS6jbPYuiNICNskEu5GzFINodRgnYvzDFN+Lf7N+j/Frxl4U8WDxF4j8IeKPDcVza2mp+G7mGGQwTqFkjcTRSjGBwQAQScHoRt/8Kr8T/wDRZPG3/gHof/yto/4VX4n/AOiyeNv/AAD0P/5W0AeefD79iXwT8M9X+Hd/pWr+JLiTwJfavfaTHeXUMoJ1JAlwsx8oM6qNzJgggk7i/SsDw/8A8E+/A3h9fD1rbeKfGg0Hw14kh8TaF4fbVYzYafcxzebsjj8oFkLFly5LgM2CpLFvYv8AhVfif/osnjb/AMA9D/8AlbR/wqvxP/0WTxt/4B6H/wDK2gDgLX9jXw1pXja71nSfF3jTRtHu9fHiS58I6Xq6waVJfFgztsEYlVGb52jWQKTjjAVQnxU/Y30P4sax4gn1Pxr410vRfEnkf2z4b0/VY2066MYwNqzQu8O7gHyWUH0Fegf8Kr8T/wDRZPG3/gHof/yto/4VX4n/AOiyeNv/AAD0P/5W0AVfi38APDPxi+Ex+HeqfbtN0GM2xtZNHmEU9obdlaLy2YMuV2AfMD7c4I5Lwl+x/wCFvD+ueONU1bxB4m8bXnjLRl0PXP8AhJLuGVbuFVZVIMUMZjIRynyYXAzt3AtXZzfCvxRtAHxk8bcnH/Hnoefw/wCJb1/z7jnvCnw/+IOoa14rh1T4qeNLOystRjg0qZbHQwbq1NlayGQ/8S7qJ5LiPt/q+ncgHFeHv2A/Buj6bfWN/wCMPHHiO0bw5eeFtLi1vVY5Y9EsbqEwzLaIIVCt5Z2gyBwFVB2ruvF37Lfg7xj8F/CPw4v7nWYbLwlHYjQ9cs7tYdUsJrWMRwXEcyptEoUcnZjnO3pjoP8AhVfif/osnjb/AMA9D/8AlbR/wqvxP/0WTxt/4B6H/wDK2gDzvRf2J/Clh4c8Y2tz4p8Zan4i8VPbvfeMp9X2ayog5gWKaNAsaIOAoTaRgMDgYjtP2IfC7R+MbvUvGHjTVvFPiiG1t7nxXJqcdtqdulu26MQPbxRonIXOUO7HzZr0j/hVfif/AKLJ42/8A9D/APlbR/wqvxP/ANFk8bf+Aeh//K2gDF+D/wCzVovwn8aeI/GD6/r3i7xdr0ENrea34ilhefyYgdsaCGKNFH3STtySoJNU/ix+y/ofxO+Idh45h8R+KPBviaCwbR57/wAK6glnJe2bOW+zzFkfIDsTkYYHBU5Ax03/AAqvxP8A9Fk8bf8AgHof/wAraP8AhVfif/osnjb/AMA9D/8AlbQB578Of2JfAvwtvvhhNomo68B8O7nV7jR47m5hdJG1BNs6zgQqXCjAQKVPAJLZNTw/sXeCrP4U6P8AD6LU/EB0XSfEq+KYJmuIDcNdCdp9jMYdpi3ORjbnHGc813f/AAqvxP8A9Fk8bf8AgHof/wAra53xV8P/AIh6fq/hSHSPit4yu7K81N4NWmksNEY2tqLO5kWRcaeMEzx28ecN/rD8vcAGN46/Y58PeMPG3iHxLp/jLxp4Ol8SfZjr9j4Y1VbO31FoP9W8mYmdH24VjGy5UY4yTXa+DvgP4d8E/Eb4heMbOa/utQ8cxadFqlpeSq9uiWVu1vCsQ2hgGVju3u5YntzSxfCvxQdpb4yeN845H2PQ/r/0DAe/6VL/AMKr8T/9Fk8bf+Aeh/8AytoA4X4X/se+HvhXrmi3Wj+MfG83h7QpbqbSfCd3qw/sqzM7FiBGkSySIpY7FmkcLn1zTdY/Yw8F678K/ij4CudV18aP8RPEU3ibVbiO4txcRXUs0MzJAxg2rHugQYZXPzN83eu8/wCFV+J/+iyeNv8AwD0P/wCVtH/Cq/E//RZPG3/gHof/AMraAMnTf2d9J0f4+ah8WbHXtfs9Y1SxistR0mO4jGn3ixIUiaSPyy+9FPXfjOOBV6/+Aug6h+0Ba/F2S81JfElpoB8ORWcc0YsvsxnabeV8veJd7MMh8YA4zzVj/hVfif8A6LJ42/8AAPQ//lbR/wAKr8T/APRZPG3/AIB6H/8AK2gDjtD/AGN/h9oa/E2wji1C68J/EGX7Vq3hW4mT+zYZyBultkWMSQuxG4kPwQmANqheW8M/sC+D9J1bwzLrnjTx5460PwzOl1o3hrxNra3GmWkiHMTGJI0L+XnCbmYBcKQVGK9a/wCFV+J/+iyeNv8AwD0P/wCVtNk+FfijjHxk8bDrz9j0P0P/AFDaAOQtf2Q/Cln4Y+I+h2eu+KLBfHHiGbxRe6hY6iLW7s7yWQOfs0kcY2KpXgOHyGwSRjGz8G/2bNF+EvjTxJ4xfXte8X+LteghtLvW/EU0Lz+TF92NRDFGgH3STtySoJNUvhz8PfiFrXgXw3qHiT4qeM9K8QXel2tzqNgljoii2uXiVpY8f2c33XLjqenfqel/4VX4n/6LJ42/8A9D/wDlbQB6TRXm3/Cq/E//AEWTxt/4B6H/APK2j/hVfif/AKLJ42/8A9D/APlbQB6TRXm3/Cq/E/8A0WTxt/4B6H/8raP+FV+J/wDosnjb/wAA9D/+VtAHpNFebf8ACq/E/wD0WTxt/wCAeh//ACtpk3wr8U7Pl+MfjYn/AK89D/8AlYaAPTKK8R0z4efECbx9rNhcfFXxnH4fg0qwntL5bHQ8zXUkt2txHn+zzwiRWp6f8tPvN0Xpf+FV+J/+iyeNv/APQ/8A5W0Aek0V5t/wqvxP/wBFk8bf+Aeh/wDyto/4VX4n/wCiyeNv/APQ/wD5W0Aek0V5t/wqvxP/ANFk8bf+Aeh//K2j/hVfif8A6LJ42/8AAPQ//lbQB6TRXm3/AAqvxP8A9Fk8bf8AgHof/wAraP8AhVfif/osnjb/AMA9D/8AlbQB6TRXjep6b4o8A+Ovh5HJ8Q/EHiax1zWptMu7HWLTTVi8sabfXIZWt7SFwwkto+SxGCRgkgj2CM7m65GOMZx+ffvQBJRRRQAUUUUAFFFFABRRRQAUUUUAFFFFABRRRQAUUUUAFIaWkNAHm/wp/wCR6+Mv/Y2Qf+mPSq9Jrzb4U/8AI9fGX/sbIP8A0x6VXpNABRRRQAUUUUAFFFFABRRRQAUUUUAFFFFABRRRQAUUUUAFFFFABRRRQAUUUUAFFFFABRRRQAUUUUAFFFFABRRRQAUUUUAFFFFABRRRQAUUUUAFFFFABRRRQAUUUUAFFFFABRRRQAUUUUAFFFFABRRRQB5r8WP+R6+Df/Y13H/pi1avSR3rzb4sf8j18G/+xruP/TFq1ekjvQAtFFFABRRRQAUUUUAFFFFABRRRQAUUUUAFFFFABRRRQAUhpaQ0Aeb/AAp/5Hr4y/8AY2Qf+mPSq9Jrzb4U/wDI9fGX/sbIP/THpVek0AFFFFABRRRQAUUUUAFFFFABRRRQAUUUUAFFFFABRRRQAUUUUAFFFFABRRRQAUUUUAFFFFABRRRQAUUUUAFFFFABRRRQAUUUUAFFFFABRRRQAUUUUAFFFFABRRRQAUUUUAFFFFABRRRQAUUUUAFFFFAHmvxY/wCR6+Df/Y13H/pi1avSR3rzb4sf8j18G/8Asa7j/wBMWrV6SO9AC0UUUAFFFFABRRRQAUUUUAFFFFABRRRQAUUVj+KvFWj+DNHfU9c1K10nT0ZUa4u5hEu5jhVBPViegoA2KKytD8Qab4n0221LSb6DUNPuUEsFzayBo5FJIBBHYkEfgaxtC+J3hPxNfalZaV4i0rULvTlJvLe3u0Z4FVijMw6hQyspJ4G2gDrqQ1xel/F3wTrnh/UtbsPFOk3WjaaA13fx3qGK3BG5Wds4CsMYb+LPFa/hPxlovjawa/0DVbXV7FZGhaezkEiLIMEoSOhAI49DQBynwp/5Hr4y/wDY2Qf+mPSq9Jrzb4U/8j18Zf8AsbIP/THpVek0AFFFFABRRRQAUUUUAFFFFABRRRQAUUUUAFFFFABRRRQAUUUUAFFFFABRRRQAUUUUAFFFFABRRRQAUUUUAFFFFABRRRQAUUUUAFFFFABRRRQAUUUUAFFFFABRRRQAUUUUAFFFFABRRRQAUUUUAFFFFAHmvxY/5Hr4N/8AY13H/pi1avSR3rzb4sf8j18G/wDsa7j/ANMWrV6SO9AC0UUUAFFFFABRRRQAUUUUAFFFFABRRRQA1sbSTwBXkfxqvrXQfGXwv1vWZktNAsdbuBc3dzJtt7aaSxuYoJJGPCAtIYwTxulUd69eooA8H+DetRXHg3xPHp+owo/iTW9cv/DirJsNzB5hJniPdGkZpA44IkVv4q8R8V3Fp42+E3gjRfB+NQ1DQfh9qNrrek2IY3VpD9lt4Xs5VX5o5GliZRE3zMYWxwpr7mooA+OPjL4l0rxt4i1/WfCur2N14cj0rQrW+8Q2RFxa6ZMNV+0W9zIU+Vhbp+9ZWwFSQM/yFq9T/Z0u/tniD4mSrq0PiyObW4rj/hKrPYsGoN9khTylWMmMNAIliJQ4OORvD17pSGgDxD4e+HNSv/jN8VtVh8V6xp9lbeJrZZNDtYrM2l0f7E0s73MkDTZOcfJKo+TpXtiA7iS24V518Kf+R6+Mv/Y2Qf8Apj0qvSaACiiigAooooAKKKKACiiigAooooAKKKKACiiigAooooAKKKKACiiigAooooAKKKKACiiigAooooAKKKKACiiigAooooAKKKKACiiigAooooAKKKKACiiigAooooAKKKKACiiigAooooAKKKKACmSAkDBxz/Sn0UAeI/EDw5qNj8Y/hRqc/izWdTsrjxPcrHot1FZraWp/sTVCGQx26TE4BHzyMMMeM4I9tHevNvix/wAj18G/+xruP/TFq1ekjvQAtFFFABRRRQAUUUUAFFFFABRRRQAUUUUAFFFFABRRRQAUhpaQ0Aeb/Cn/AJHr4y/9jZB/6Y9Kr0mvNvhT/wAj18Zf+xsg/wDTHpVek0AFFFFABRRRQAUUUUAFFFFABRRRQAUUUUAFFFFABRRRQAUUUUAFFFFABRRRQAUUUUAFFFFABRRRQAUUUUAFFFFABRRRQAUUUUAFFFFABRRRQAUUUUAFFFFABRRRQAUUUUAFFFFABRRRQAUUUUAFFFFAHmvxY/5Hr4N/9jXcf+mLVq9JHevNvix/yPXwb/7Gu4/9MWrV6SO9AC0UUUAFFFFABRRRQAUUUUAFFFFABRRRQAUUUUAFFFFABSGlpDQB5v8ACn/kevjL/wBjZB/6Y9Kr0mvNvhT/AMj18Zf+xsg/9MelV6TQAUUUUAFFFFABRRRQAUUUUAFFFFABRRRQAUUUUAFFFFABRRRQAUUUUAFFFFABRRRQAUUUUAFFFFABRRRQAUUUUAFFFFABRRRQAUUUUAFFFFABRRRQAUUUUAFFQ3lxHa27zTOscMY3u7EBVUckknoB69q5bwP8TvCfxMsbm78L+I9N8QW9sVWeTTbpZlQldyng8AjDK3cUAdfRXG2vxU8IX3jS58J23ibSpvEtsGabSY7xPtCFVDPlOvAZSfQHPals/in4P1TxnceELXxNpc/ia33ebpMd2huE2qpYGPsQGUkdgwPegDsaK820P9oj4ZeKNa1DR9I8e+H9R1TT4pri8tLbUI3e3jh/1rMAeFX+I9s1b0r43eAde8Man4i0/wAY6Hd6Hpaq9/qMN/GYLZWGQzv2BH3T/F0FAHfUVxunfFjwdq/g2+8VWnifS5fDdjv+16ot4ggttgBcSPn5GUEZU/3h61QPxs8Br4RHihvFmjr4dFz9i+3fbE8r7RnHkA95M9F69T2oA9BorG8J+KdI8a6Lba1oWp2msaTdAmC9sphLFKAxUlWBwRkEexBrZoAKKKKAPNfix/yPXwb/AOxruP8A0xatXpI715t8WP8Akevg3/2Ndx/6YtWr0kd6AFooooAKKKKACiiigAooooAKKKKACiiigArH8VeKtH8GaO+p65qVrpOnoyo1xdzCJdzHCqCerE9BWs2NpJ4AryP41X1roPjL4X63rMyWmgWOt3Aubu5k229tNJY3MUEkjHhAWkMYJ43SqO9AHpOh+INN8T6bbalpN9BqGn3KCWC5tZA0cikkAgjsSCPwNY2hfE7wn4mvtSstK8RaVqF3pyk3lvb3aM8CqxRmYdQoZWUk8DbXmvwb1qK48G+J49P1GFH8Sa3rl/4cVZNhuYPMJM8R7o0jNIHHBEit/FXiPiu4tPG3wm8EaL4PxqGoaD8PtRtdb0mxDG6tIfstvC9nKq/NHI0sTKIm+ZjC2OFNAH1no/xa8GeIdB1PWtN8T6TeaRpqhry9jvUMUCkbgzvnCoRhg/QjJ7VqeEfGmh+OtPk1DQNVtdXs0laB5rSYSKkigEq2PuthgcehB718o/GnW7Xx540uvEHg3XLK78J2FpoC65q1gqXdvAi6m0yO2D5bGCNvOKsCEUqzDaTXsnwD1uTWtc8eiDVrfxdpEOowLa+LYYLZZNSb7NHvSSW3RI5mhIC71TABVOqNQB0Hwp/5Hr4y/wDY2Qf+mPSq9Jrw/wCHvhzUr/4zfFbVYfFesafZW3ia2WTQ7WKzNpdH+xNLO9zJA02TnHySqPk6V7YgO4ktuFAElFFFABRRRQAUUUUAFFFFABRRRQAUUUUAFFFFABRRRQAUUUUAFFFFABRRRQAUUUUAFFFFABRRRQAUUUUAFFFFABRRRQAUUUUAFFFFABRRRQAUUUUAFFFFAHlf7U2lXmt/s6/EKxsLa5vbibRrhTbWYZppo9h82NAvzMzR712ry2cDJOK4Lwn8RPCeu/H7XfGOga/pd34MtfCOnaXfapYzqbUXcl7MbWAyL8vmKsh+QfOgnTcBvXP0bNjbyMjoRjOa/FrTf29P2g7/AE61uz8TbiF7mJJikGjaXsXcoJX5rRjwfVia7sJga2OcoUNwPtrwzqdjfWvw18E2l5bv8QtI+JOp6jqWll915DD9p1GS5u5FALLFLFMpErYWT7RGM5kWoPDerWUmmfDrwdZXkT/EXRfiTqmo6npefN1CCJZ9RkubqRAd+yWCdcSHAcXMSg5cCvjX/hub9oMc/wDC0r3/AME2k/8AyHQ37c37QWMn4o3v/gl0n/5Dr0/7Axy6EuR9Qafc2c3wutPh34a+KepeOfCF74I1L+37W60u2uLnw95MMflyyW1vEk6O0vmxva3DO0h3qP8AVyEVPiF4q1n4i6x4k8RtrfhefQYdJ8O6be+IvCs8l7pWlSprC3UF68pAWVoFVpnjICRJIhdirGvmj/huj9oH/oqN7/4JdJ/+Q6B+3R+0CBj/AIWle/8Agm0n/wCQ6P7Bx3YXMfXkN8j+H/iBqlxrEHjTw/afEfw/rOreMrPYlndwxvYCUOkRMQWzEMPmOpK4Qu2GRyNLWPjd4C8BeN/Hfjya40PW7LVPEllaeEri91GK2sZ9TTSxBd3P2yQ+VHGsTCKWcFseW0YVpCI2+Ml/bn/aC6D4pXo/7guk/wDyHXrv7JH7Xfxk8fftJeBvC/ijxzNr2g6tLeRXNlPpthCG8uwuZ0IeG3jYEPCn8WMZ49Ma2T4uhSlVmtIlJ3Puj9mWz0SH4cveaN4u0fxtNqepXmp6nq2gXCS2L308xlmWLYzBVXcqgElsKC2WZi3rlRRfe98ck9T6fzqWvDWwwoopkgJAwcc/0pgecfFj/kevg3/2Ndx/6YtWr0kd68S+IHhzUbH4x/CjU5/Fms6nZXHie5WPRbqKzW0tT/YmqEMhjt0mJwCPnkYYY8ZwR7aO9AC0UUUAFFFFABRRRQAUUUUAFFFFABRRRQAUUUUAFFFFABSGlpDQB5v8Kf8AkevjL/2NkH/pj0qvSa82+FP/ACPXxl/7GyD/ANMelV6TQAUUUUAFFFFABRRRQAUUUUAFFFFABRRRQAUUUUAFFFFABRRRQAUUUUAFFFFABRRRQAUUUUAFFFFABRRRQAUUUUAFFFFABRRTZPu/j36CgCG+vrfT4RLdTx28RYLvkbaMnoPrT2lWNCzMFVRuJ7AfWvCviN4d0Pxp+0Z4U0Txfp9nq+g/8Irqt1aafqsCTWr3IubOOZ9r5DSJFIVB7JNJ2Jrzix1GXWP2O/hTaa5dfadJ1DVtBtL/AM+XzBdaS2pRRQ+czfejljECuW4dZGDffNAH1tbX9vdWouYZ45LXBYTI+5SB1OfaohrFiLEXn2y3FkelwZRsP/AjXx54u0ew0nUfiZ4Z0+1t9P8Ah83j3wraX1jaoqWSeebM3kBjGFSOUtamVFwG89t3LsDV8TfDPT/F3xG8UfD7RrjwnoXhVfG2nXMOi61pgvNOursaLLNPapZq8auxIt7l0LICVZjlmoA+zW1rT1s0u/t1uLVjtE/mrtJPTB7mm3Wuabp8hiub+0tnUZMc0yoQD0ODXx18K9O8PePPidpHhDxT4U8KQaB4fsfE1jbabpejpbaFfXcN/axTXkNq5cI/lSbT8zsha4AbaWLZGn/Dfwv8YvhJ8EPDOv8AhbQ9Y8QeLbZkm8RX+nwXOoReH7MNITFcyBpAzo1pCJAcj7UXBDDIAPuGXULSNoFku4kac4hDSKDJxn5PWoZNe0y3uTBJqFqlwpwYmmUPk+o9a+aP2qvAvhPU/A/j59DtPDv/AAl2h+F4mun1VmEmj6Wi3DpLZdVtpj5cmyZFA3QJuJ8tAI/F3wx+H/xq+NXga0fwLocVydPi8a69qV1o9uNSnwVjsLaWbAkIeRZnfB5Fn5bfLI1AH1YuMcc+9fzueGf+Rc0v/r0h/wDRa1/RBG+7OAccnk/59/yr+d/wz/yLml/9ekP/AKLWvsuGf41X/CvzE9jSooor9EMgooooGFe4/sL/APJ4vwq/6+9Q/wDTTfV4dXuP7C//ACeL8Kv+vvUP/TTfV5Obf7jV9Brc/aBelOpq9KdX4+aBRRRQB5r8WP8Akevg3/2Ndx/6YtWr0kd682+LH/I9fBv/ALGu4/8ATFq1ekjvQAtFFFABRRRQAUUUUAFFFFABRRRQAUUUUAFFFFABRRRQAUhpaQ0Aeb/Cn/kevjL/ANjZB/6Y9Kr0mvNvhT/yPXxl/wCxsg/9MelV6TQAUUUUAFFFFABRRRQAUUUUAFFFFABRRRQAUUUUAFFFFABRRRQAUUUUAFFFFABRRRQAUUUUAFFFFABRRRQAUUUUAFFFFABTW7fpTqKAPm79uT4o+GfhD8MdC1nxJ8OtH+JkV5rUem22ma2Y0hhdra4kMpZ4JudkTpgJk+ZjPJz8rX3/AAUvsdWguY7/AOAHh28S4sl0udLnXw4ltQSVt3zpxzGCxOw8AnOOa9h/4Kxf8kL8D/8AY5Q/+m3UK/MVuv5/zNfY5NlWHx1GU6m5LlY+0rH/AIKR6TpnhW58M2v7PXhu08OXQkE2jRa8q2kgkY7w0K6dtILZJBHUmqjf8FDfDr+FR4YP7N3hP/hHfPF2ujvrUf2NZvML+Z5X9nbQQ+Wz1yTXxxRXurh/BW1FzH2LqX/BQ7w7rXhfTfD19+zZ4Uu9A03iz0i71mOS3tMgrtjibTtq8MVO3sxHeuiX/gqZJHqFlep8D9H+2WNtJbWlyniY+ZbwyFDJFGx0/IVjDFlV4Plp/dGPhiin/q/gg5j7N8V/8FG9H8dahYX3iH9nXwzrt9Y4Ftc6jr6TywgOr/IW08sAGUNx0ZVI5Ar6l/Y4/amt/wBqDX/HF5N4Gs/CeuaNbadDPeW98L17uCRrsxRmU28TbY3SchTuAMzEEEtn8jl6197f8EkP+Ri+MP8A16aD/wCh6lXi5tlOGweFdWnvdDTufo0O9fzueGf+Rc0v/r0h/wDRa1/RGO9fzueGf+Rc0v8A69If/Ra1HDP8at/hX5jkaVFFFfohkFFFFIYV7j+wv/yeL8Kv+vvUP/TTfV4dXuP7C/8AyeL8Kv8Ar71D/wBNN9XlZt/uNX0HHc/aBelOpq9KdX4+aBRRRQB5r8WP+R6+Df8A2Ndx/wCmLVq9JHevNvix/wAj18G/+xruP/TFq1ekjvQAtFFFABRRRQAUUUUAFFFFABRRRQAUUUUAFFFQ3VxFZ27TTSJFGnJeRtqj6mgCaioVkWZVkQh1IyGHOQfQ1HDeW8800cU0ckkJ2yqrZKnH8XpQBapDVezvIL2MvbzRzqCQTG+4A+mafHNHNuMbq+04ODnB9KAPPPhT/wAj18Zf+xsg/wDTHpVek15t8Kf+R6+Mv/Y2Qf8Apj0qvSaACiiigAooooAKKKKACiiigAooooAKKKKACiiigAooooAKKKKACiiigAooooAKKKKACiiigAooooAKKKKACiiigAooooAKKKKAPib/AIKxf8kL8D/9jlD/AOm3UK/MVuv5/wAzX6df8FYv+SF+B/8Ascof/TbqFfmK3X8/5mv0nhv/AHaXqZvcKKKK+s6CCiiigBV6197f8Ej/APkYvjF/156D/wCh6lXwSvWvvb/gkf8A8jF8Yv8Arz0H/wBD1KvmuIf9xfqhx3P0aHQ1/O54Z/5FzS/+vSH/ANFrX9EY+6a/nc8M/wDIuaX/ANekP/ota8Hhn+LV/wAK/MuWxpUUUV+iGQUUUUhhXuP7C/8AyeL8Kv8Ar71D/wBNN9Xh1e4/sL/8ni/Cr/r71D/0031eVm3+41fQcdz9oF6U6mr0p1fj5oFFFFAHmvxY/wCR6+Df/Y13H/pi1avSR3rzb4sf8j18G/8Asa7j/wBMWrV6SO9AC0UUUAFFFFABRRRQAUUUUAFFFFABRRRQA2TO3jGfevJPjRZWmteNfhbpOswRXegXmt3P2i0ukDQXMyWF1Jbo4b5WwyM4B/ijQjkCvXay/EnhvSfFmlPput6XZazp8jKzWmoW6TxMwOVJRwQSDyOO1AHknwWmk0/4f+M9O0cQra2Ou61b6DBCF2eWkz4SNT1RJS6AdAFKj5QK8G8XWtj4X+EfgbVPB4Ww1DVvh9qdzrepWK7bq5tzbW0k1zMy/O0iyuT5jfOrSuR95q+ytP8ACWiaSunrY6Lp9qNLiaCwWC2VBaxsF3JFhf3anYgwvGFHpVfRvh/4W8P3moXWk+HdK0291H/j9uLWyijkusszEysFyxLM7fN1JNAHgPii8k+FPxM1qz+Gfh5Ybe+8Oacs0Hh/TxNFYyvdTJFevbRDa5WBZiOm/wAuNSVABHU/sjz2KeB9f02wttZht7HxFqKLJrVvNFNIDcyMGZpVBeTu/HysSCAc16z4V8D+HfA1tPB4b0DS9CtpyrSQ6VZx2ySEKFUsEUBiFGM+gFael6XZ6WswsrWG2SeV55PIiCCSR2LO7Y6lmJOfegDx74e+HNSv/jN8VtVh8V6xp9lbeJrZZNDtYrM2l0f7E0s73MkDTZOcfJKo+TpXtiA7iS24V518Kf8AkevjL/2NkH/pj0qvSaACiiigAooooAKKKKACiiigAooooAKKKKACiiigAooooAKKKKACiiigAooooAKKKKACiiigAooooAKKKKACiiigAooooAKKKKAPib/grF/yQvwP/wBjlD/6bdQr8xW6/n/M1+nX/BWL/khfgf8A7HKH/wBNuoV+Yrdfz/ma/SeG/wDdpepm9wooor6zoIKKKKAFXrX3t/wSP/5GL4xf9eeg/wDoepV8Er1r72/4JH/8jF8Yv+vPQf8A0PUq+a4h/wBxfqhx3P0aH3TX87nhn/kXNL/69If/AEWtf0Rj7pr+dzwz/wAi5pf/AF6Q/wDota8Hhn+LV/wr8y5bGlRRRX6IZBRRRSGFe4/sL/8AJ4vwq/6+9Q/9NN9Xh1e4/sL/APJ4vwq/6+9Q/wDTTfV5Wbf7jV9Bx3P2gXpTqavSnV+PmgUyQEgYOOf6U+igDxH4geHNRsfjH8KNTn8WazqdlceJ7lY9FuorNbS1P9iaoQyGO3SYnAI+eRhhjxnBHto715t8WP8Akevg3/2Ndx/6YtWr0kd6AFooooAKKKKACiiigAooooAKKKKACiiigAooooAKKKKACkNLSGgDzf4U/wDI9fGX/sbIP/THpVek15t8Kf8AkevjL/2NkH/pj0qvSaACiiigAooooAKKKKACiiigAooooAKKKKACiiigAooooAKKKKACiiigAooooAKKKKACiiigAooooAKKKKACiiigAooooAKKKKAPib/grF/yQvwP/wBjlD/6bdQr8xW6/n/M1+nX/BWL/khfgf8A7HKH/wBNuoV+Yrdfz/ma/SeG/wDdpepm9wooor6zoIKKKKAFXrX3t/wSP/5GL4xf9eeg/wDoepV8Er1r72/4JH/8jF8Yv+vPQf8A0PUq+a4h/wBxfqhx3P0aH3TX87nhn/kXNL/69If/AEWtf0Rj7pr+dzwz/wAi5pf/AF6Q/wDota8Hhn+LV/wr8y5bGlRRRX6IZBRRRSGFe4/sL/8AJ4vwq/6+9Q/9NN9Xh1e4/sL/APJ4vwq/6+9Q/wDTTfV5Wbf7jV9Bx3P2gXpTqavSnV+PmgUUUUAea/Fj/kevg3/2Ndx/6YtWr0kd682+LH/I9fBv/sa7j/0xatXpI70ALRRRQAUUUUAFFFFABRRRQAUUUUAFFFFABRRRQAUUUUAFIaWkNAHm/wAKf+R6+Mv/AGNkH/pj0qvSa82+FP8AyPXxl/7GyD/0x6VXpNABRRRQAUUUUAFFFFABRRRQAUUUUAFFFFABRRRQAUUUUAFFFFABRRRQAUUUUAFFFFABRRRQAUyRioGCB9fpT6iuGKquCR8w6DOR3/z64+lAHzjovxu8W3WpeF/FF9NpR8GeJPFVz4bg0ZLCRb22iWa6htrn7T521nd7dS8ZjAVZ8A5T95qfFL4neOrXxN49g8IzaPY2vgjw/BrdzDqlm851a4lFy4tg6yoYUEdso8zaxLzccRFW4/UrX4f/AAw8baT4d8W/GvwXpHh/w7r9z4lsvCuqXNraalDPcNNLEks0tzzBE91JJGohRsCEbiIzvxfFnjT4d+JLjXbi1/ab+G+mXPifQodD8RTx3tm4nSMzhZ7UNe4t5fLuJU+fzk+4dvyfM+V9gO48XfG7xdr0fifU/A02k2OkeF/Ctn4kkh1qyeeTU5LiKeZbXekqmBRFbjMhViGlztwnzP8AG3xc8faPp+meM7O60GLQNX1LS7PQfC8lnLJqGtQ3Xkb/AN8JVEcq+ZOwUROFSAu5wxKcR428TfCLUZtci8JftEfDrwnpWv8Ah+38NapZtqlndOttCJY43tW+1J5Mwinlj3Osq/6ttn7sh6Fl4s8D6J8UJ/FOlftJ/BuSziijsNI0/VVhuZNG09FRTbWsi6qiruCktL5e8nG7cqqqvlfYD2O1+NWra3+0FpPhTSre3fwW1tqVvcapJky3OoWrQCSOHA2mOMymN27yb04MTbrHwx+J3jPxp8VviV4a1zR7Tw1Bo9hpdzpVv5v2m4Rbk3gL3LKdm4m3U7IywUYG9iTt8h0+P9mDw98RPCvinQvi54L0qLQRdldNj8brJFI8xiYMqteFEClHJRUIcyc4IFd1ovxo+Cuh/FLxh4x/4Xj4DuG8QWGn2QsV8QWQ8n7I10d5k8/5t32nphdvl9WzRyvsBy+ufFr4tfDzV/iJc3XiHw3410fwP4fkvtTFt4el00JqEkQkt7YP9rm+VIh58x6qjpjO/Kej/CX4rarf/FLUPAWueI9D8XXa6DBr9vquhWptkCPM8MkTp50oIysbIytna+GAIDPx/h/4qfBrw34Q8baXbftA+B4tX8S6nqWpNrMGu6cJLZ7pm8oqjyurGGIQxgtw/kglQGwO5+BvwdtPCGs3fiz+0PD+pz6jpsFnZv4V0VNL01LUMZTJHGssu95XcM0m/aQkYUfKxZWa3A8L/wCCsX/JC/A//Y5Q/wDpt1CvzFbr+f8AM1+nX/BWL/khfgf/ALHKH/026hX5it1/P+Zr9I4b/wB2l6mb3CiiivrOggooooAVetfe3/BI/wD5GL4xf9eeg/8AoepV8Er1r72/4JH/APIxfGL/AK89B/8AQ9Sr5riH/cX6ocdz9Gh901/O54Z/5FzS/wDr0h/9FrX9EY+6a/nc8M/8i5pf/XpD/wCi1rweGf4tX/CvzLlsaVFFFfohkFFFFIYV7j+wv/yeL8Kv+vvUP/TTfV4dXuP7C/8AyeL8Kv8Ar71D/wBNN9XlZt/uNX0HHc/aBelOpq9KdX4+aBRRRQB5r8WP+R6+Df8A2Ndx/wCmLVq9JHevNvix/wAj18G/+xruP/TFq1ekjvQAtFFFABRRRQAUUUUAFFFFABRRRQAUUUUAFQ3VxFZ27TTSJFGnJeRtqj6mpJM7eMZ968k+NFlaa141+Fuk6zBFd6Bea3c/aLS6QNBczJYXUlujhvlbDIzgH+KNCOQKAPV1kWZVkQh1IyGHOQfQ1HDeW8800cU0ckkJ2yqrZKnH8XpXjXwWmk0/4f8AjPTtHEK2tjrutW+gwQhdnlpM+EjU9USUugHQBSo+UCvBvF1rY+F/hH4G1TweFsNQ1b4fanc63qViu26ubc21tJNczMvztIsrk+Y3zq0rkfeagD7dg1C2uYWljuIpIlzukRwyrjrz2p9pdQ3kCS28qTQtnbJG24H8a+ZfFHh/4f8Ahf4heJNOuLCw0zwB/wAI1pl9qWl6ZGEgnuUvpBZoYIRiVpgpTYATKqqhBGAfSfgb4IuvDKeJtWm0mPwva+INRW/tfDNuqKmnRrDHGN4T5RPIY/Mk2krllA3FWdgDQ+FP/I9fGX/sbIP/AEx6VXpNeH/D3w5qV/8AGb4rarD4r1jT7K28TWyyaHaxWZtLo/2JpZ3uZIGmyc4+SVR8nSvbEB3EltwoAkooooAKKKKACiiigAooooAKKKKACiiigAooooAKKKKACiiigAooooAKKKKACiiigAooooASmt0p1NbpSe4H4wft0f8AJ4nxU/6+9P8A/TTY14dXuP7dH/J4nxU/6+9P/wDTTY14dX6/lMV9RpadDOW4UUUV63Kuwgoooo5V2AB/Q/yr9vf2UP8Ak1z4O/8AYm6P/wCkMNfiEP6H+Vft7+yh/wAmu/B3/sTdH/8ASGGvguJkl7OxcT57/wCCsX/JC/A3/Y5Q/wDpt1CvzGbr+f8AM1+nP/BWL/khfgb/ALHKH/026hX5jN1/P+Zr0eG/92l6sl7hRRRX1vQQUUUUAKvWvvb/AIJH/wDIxfGL/rz0H/0PUq+CV6197f8ABI//AJGL4xf9eeg/+h6lXzXEP+4v1Q47n6ND7pr+dzwz/wAi5pf/AF6Q/wDota/ojH3TX87nhn/kXNL/AOvSH/0WteDwz/Fq/wCFfmXLY0qKKK/RDIKKKKQwr3H9hf8A5PF+FX/X3qH/AKab6vDq9x/YX/5PF+FX/X3qH/ppvq8rNv8AcavoOO5+0C9KdTV6U6vx80CiimSAkDBxz/SgDzj4sf8AI9fBv/sa7j/0xatXpI714l8QPDmo2Pxj+FGpz+LNZ1OyuPE9ysei3UVmtpan+xNUIZDHbpMTgEfPIwwx4zgj20d6AFooooAKKKKACiiigAooooAKKKKACiiigArL8SeG9J8WaU+m63pdlrOnyMrNaahbpPEzA5UlHBBIPI47VqUUAYOn+EtE0ldPWx0XT7UaXE0FgsFsqC1jYLuSLC/u1OxBheMKPSq+jfD/AMLeH7zULrSfDulabe6j/wAftxa2UUcl1lmYmVguWJZnb5upJrpqKAOF/wCFL/D/APsK40RfA3ho6JcyLLLpv9k2/wBmldU2o7RlNrMF4BPIFavg34f+Fvh/Dcw+F/DOkeGYrpg9xFpGnw2glYDALiNQGIGee2a6WkNAHm/wp/5Hr4y/9jZB/wCmPSq9Jrzb4U/8j18Zf+xsg/8ATHpVek0AFFFFABRRRQAUUUUAFFFFABRRRQAUVDeXEdrbvNM6xwxje7sQFVRySSegHr2rlvA/xO8J/Eyxubvwv4j03xBb2xVZ5NNulmVCV3KeDwCMMrdxQB19Fcba/FTwhfeNLnwnbeJtKm8S2wZptJjvE+0IVUM+U68BlJ9Ac9qWz+Kng3U/Gdz4Rt/E+lT+JbcP5ukrdobhdqguDH1BCsGI6gEHoaAOxoriPD/xe8FeKb/V7HSfFukale6Ujy6hBBfRt9lVWKszkHAVWUqxHCkc1Y8D/E7wp8ToLufwr4j07xBDasqzvp90spiLAlNwH3Qy8qf4gD6UAdfRWJofizSfElhcXmlajaX9ta3E1pNLbyh0jmicpKhbsUYEH6ViXvxY8G6b4JsPF134n02LwzfeX9k1SS6UQ3JfIjEZP3mYjhR9e1AHbUVylv8AEbwxe+B5vGMOv6dP4Vit5Lp9YiuQ1sIY8+ZJ5gOMLtb6FTWJ8cPHl54F+CnivxZoTQT6jaaXJcWEsnzQ+YVPlO+BygZgx6ZAPIzQB6NRXiHgHUfEHg7406j4C1XxVqfi2wk8O22twXerRW4ngmW5kguBuhiQGN/3LAEEqVfkKQBwvh/4h+Lov+EJ8e3fiS9msvE/jS58Pz+GWhgWxtrEz3cFqIyIxJ5yG3hdn3kPukG3aU2AH1TRXyv4f+Ini+L/AIQbx9d+KL65svE/jK48PT+GGig+xwWRnu4LYxkQrIs6GGJ3csQxaVcY8vZDrPxa+JHgi/8Aj9PrN/pM994e8O6Zf6Hp9jA4s7B5/tyKZJGG6f5oY2djtztKhUxkgH1dRXza0fjnSfiFq/w0t/iRqUy3eg2Wsx+IdVtbV7uxC3jw3wiKRJHmWPZ5ZkVhG+48jalWPhdfeL/iB4O8aw6F431Cfw5/bEEXhvxffWVvLd3NkscBvDABEkciiT7QkEzRkFsNiRFXcAfRNNbpXxyPH/xL8ReGNV8OaBceNLu9svG6aa/kW9hB4jstJGnmffMblRaqHuFZY5GHzxOnJOTXu/7PfiaHxJ4CIGq+I9Vv7C9udP1D/hLEtk1K2uYpCHgmFsqwkqGXDRhlKlfmbqU+gH5X/t0f8nifFT/r70//ANNNjXh1e4/t0f8AJ4nxU/6+9P8A/TTY14dX7BlP+40vQzluFFFFesIKKKKAAf0P8q/b39lD/k1z4O/9ibo//pDDX4hD+h/lX7e/sof8mu/B3/sTdH/9IYa+C4n3plxPnv8A4Kxf8kL8Df8AY5Q/+m3UK/MZuv5/zNfpz/wVi/5IX4G/7HKH/wBNuoV+Yzdfz/ma9Dhv/dperJe4UUUV9b0EFFFFACr1r72/4JH/APIxfGL/AK89B/8AQ9Sr4JXrX3t/wSP/AORi+MX/AF56D/6HqVfNcQ/7i/VDjufo0Pumv53PDP8AyLml/wDXpD/6LWv6Ix901/O54Z/5FzS/+vSH/wBFrXg8M/xav+FfmXLY0qKKK/RDIKKKKQwr3H9hf/k8X4Vf9feof+mm+rw6vcf2F/8Ak8X4Vf8AX3qH/ppvq8rNv9xq+g47n7QL0p1NXpTq/HzQKKKKAPNfix/yPXwb/wCxruP/AExatXpI715t8WP+R6+Df/Y13H/pi1avSR3oAWiiigAooooAKKKKACiiigAooooAKKKKACiiigAooooAKQ0tIaAPN/hT/wAj18Zf+xsg/wDTHpVek15t8Kf+R6+Mv/Y2Qf8Apj0qvSaACiiigAooooAKKKKACiiigAooooA8r/am0u81v9nX4hWNhbXN7cTaNcIbazDNNNHsPmxoF+ZmaPeu1eW3YGScVwXhP4ieE9d+P2u+MdA1/S7vwZa+EdO0u+1SxnU2v2uS9mNrbmRfl8xVkPyD50E6bgN65+jZvuj1zx0/rXyR+3Z+1Z4x/ZlvPAlp4OsdCuH16PUJbiTW7WadUW3NqFVFjmixn7QeSx6dOcjWlTlWqRpQV2wMrwzqdjfWvw18E2l5bv8AEHSPiTqeo6lpZfdeQw/adRkubuRQCyxSxTKRKwCyfaIxnMi1lw3yah4R8FeBdF1KOL4o6Z8QtXvLyx87/T7VfO1F57uXB3pHLDcJ++O1StzGAcsAfA/+HofxsHP9mfD/AP8ABNe//J9H/D0L42df7M+H/wD4Jr3/AOT69j+w8w/59fig5rHrfiTXtI8VfB/wBpPhSxi8QXvhv4Yazp3iLQbZ2W4sopLC2tpLO5WIF4ZDOh/dkq7NbSFclM1u6BqXi3VPFfiyPwF4oh+MWo6l4e0XT7rxj4fktLGTSrVJbgvDEA3k/aSs800YdwyGRSQyoinwf/h6H8bP+gZ8P/8AwTXv/wAn0D/gqF8bV4GmeAPw0W9/pf0/7CzD/n3/AOTIOY9/+Gum+ML74U6h4M8P/C+/svCC+MdUttV0201axSb7Ak7/AOhRkz4Ku2I5G3AmMSBc7966Hgf40eF/hP8Ass/CTWvFehabpWuRsLTwvZ61qNtaQCcwupn+0M2y3hELyBnOWCsVCM7qjfOP/D0T43f9AzwD/wCCW+/+T6P+HoXxtPXTPARHT/kC3ueeB1v/AFqf7DzHpDbzQXue0eP9D1DVPgPrg0CXT/it4Lmstb8R+Idc8M6pafYbjWpPMlSMI0xxb27ESBAZHd0hZzuRvM+m7j+xte/Zsuz8QLCTRvDU3heQazb3MytJBaC3PmuWhJAYIC2UORxjkADjf2G/2hPE37SXwz13xB4qtdJtNT07XJNLH9iwSwwyRi2tp1YpJJIwbM7L97Hy13H7WHP7Lfxi/wCxN1j/ANIpq8eUHGpyS0A+b/Dv7WH7Pui3mqapN8afGGs+INRt7OzGt3/hu6NxDa28hkSGMR6akex2eUudm5vMILfKm2vov7S37Mmi+KLLUI/ij4ouNJ0/VbrXbLw3ceHb46faX04kMkygWAmODPcSBGkaNGmLKqlY9n5tf/W/kKK+6hw3TnFS9puS5WP0k0f9pb9mXR/E9lqEHxP8Ty6Rp+r3WuWHheTw9ff2daX1z5vmTIBYecRunuHWNpGRWlJCjamzV1f9q79lrxJfeO7zVPGmrahB4y0i10bU7aTw9qoh+zRLOEMZFmGRmF05LbyeEIxivzGoq/8AVmn/AM/Rcx+g/ib44fs3+LvD+u2GtfHHx5qOoaxBaWF3rM3h2cXP2K1keRbQxjSxC0LvJIZQ0RMu7a5K4Wukb9rD4FXng268O6r8ePG2qMbiC4s9SbwzNbXOnSQsrxeR9l0qGNgGVSVkR1IypBU4r81KKP8AVmn/AM/Q5j9Qfhn8SPgf8VPHVvo/hT4t+K7v4l6zqp1WPWpdLls7q5eC0kQQES2K2hiW2WQeWY+xf/WDdX1B8Nfh5YfDXQ7jTrK5u9QmububUL3UtQZGub26mYvLNIUVEBJ42oioAoCgAYH5H/sL/wDJ4vwq/wCvvUP/AE031fs+fu18jmeDWBxHsYu5Sdz8YP26P+TxPip/196f/wCmmxrw6vcf26P+TxPip/196f8A+mmxrw6v0zKf9xpehEtwooor1hBRRRQAD+h/lX7e/sof8mufB3/sTdH/APSGGvxCH9D/ACr9vf2UP+TXfg7/ANibo/8A6Qw18FxPvTLifPf/AAVi/wCSF+Bv+xyh/wDTbqFfmM3X8/5mv05/4Kxf8kL8Df8AY5Q/+m3UK/MZuv5/zNehw3/u0vVkvcKKKK+t6CCiiigBV6197f8ABI//AJGL4xf9eeg/+h6lXwSvWvvb/gkf/wAjF8Yv+vPQf/Q9Sr5riH/cX6ocdz9Gh901/O54Z/5FzS/+vSH/ANFrX9EY+6a/nc8M/wDIuaX/ANekP/ota8Hhn+LV/wAK/MuWxpUUUV+iGQUUUUhhXuP7C/8AyeL8Kv8Ar71D/wBNN9Xh1e4/sL/8ni/Cr/r71D/0031eVm3+41fQcdz9oF6U6mr0p1fj5oFFFFAHmvxY/wCR6+Df/Y13H/pi1avSR3rzb4sf8j18G/8Asa7j/wBMWrV6SO9AC0UUUAFFFFABRRRQAUUUUAFFFFABRRRQAUUUUAFFFFABSGmzOscZZ2CKvJY9B71Fa3UV5CssEiTRN92SNtwP40AeffCn/kevjL/2NkH/AKY9Kr0mvNvhT/yPXxl/7GyD/wBMelV6TQAUUUUAFFFFABRRTJcFcHoeuemO9AD6bJyB9e9UG1myt9ctdIluUXUrq3mu4bdj87xRPGsjD2Vp4h/wMVfkOFz0Gc0Ach4u+KnhDwDqNjp/iLxPpei31+SbW31C8SF5RuC7gOu3cyru9SB3rrIm3HIzjsSB+f418nfG3XtB8J+MPjlaeLLiG1l8SeBrK00a3u9rHVFC38TWlpGeZZRLMn7lec3ER/5aV9J/D2z1DT/BPhy01iQy6xb6Zbx3jlixaYRqHYk8klgetAHRV+cX/BW7/kZPg7/16a7/AOh6bX6O1+cX/BW7/kZPg9/16a7/AOh6bXrZT/v1L1Ez4Kooor9gMwooopAFI33W+hpaRvut9DVLcaP07/4JP/8AJDvHX/Y6T/8Apu0+voP9q7/k1v4x/wDYnax/6RTV8+f8En/+SH+Ov+x0n/8ATdp9fQf7V3/Jrfxj/wCxO1j/ANIpq/FsV/vkv8RfQ/EL/wCt/IUUf/W/kKK/YqP8OPoZhRRRWoBRRRQB7j+wv/yeL8Kv+vvUP/TTfV+z5+7X4wfsL/8AJ4vwq/6+9Q/9NN9X7Pn7tflvEP8Avz9EXHY/GD9uj/k8T4qf9fen/wDppsa8Or3H9uj/AJPE+Kn/AF96f/6abGvDq+8yn/caXoTLcKKKK9YQUUUUAA/of5V+3v7KH/Jrnwd/7E3R/wD0hhr8Qh/Q/wAq/b39k/8A5Nc+Dv8A2Juj/wDpDDXwXE+9MtHz3/wVi/5IX4G/7HKH/wBNuoV+Yzdfz/ma/Tn/AIKxf8kL8Df9jlD/AOm3UK/MZuv5/wAzXocN/wC7S9WS9wooor63oIKKKKAFXrX3t/wSP/5GL4xf9eeg/wDoepV8Er1r72/4JH/8jF8Yv+vPQf8A0PUq+a4h/wBxfqhx3P0aH3TX87nhn/kXNL/69If/AEWtf0Rjoa/nc8M/8i5pf/XpD/6LWvB4Z/i1f8K/MtmlRRRX6IZhRRRSAK9x/YX/AOTxfhV/196h/wCmm+rw6vcf2F/+TxfhV/196h/6ab6vJzb/AHGr6DW5+0C9KdTV6U6vyA0CiiigDzX4sf8AI9fBv/sa7j/0xatXpI715t8WP+R6+Df/AGNdx/6YtWr0kd6AFooooAKKKKACiiigAooooAKKKKACiiigAooooAKKKKAPK/2kFSfwJpVpdYOkXviPR7TUkcAxyWsl9CrxyesbkqjDoysVPBNZ/wAGbG10X4h/FTStGs7ex8O2mpWZhsrNVSKC5eyjadFQfKrMDCzAd5Cx5Y16trek2Ou6Xc6fqVnb6hYXKGOa1u4lkhlU9VdWBBU+4qt4b8L6R4RsfsGh6VZaPp6u0gtdPt0giDMxZiEQAZLEkn1JoA4q8+D943ijXtZ0Xx/4m8LNrVyl5e2elxabLA86QQ2/mD7TZyuCY4IhgNjjpT/+FV+J/wDosnjb/wAA9D/+Vtek0UAebf8ACq/E/wD0WTxt/wCAeh//ACto/wCFV+J/+iyeNv8AwD0P/wCVtek0UAeat8K/E/H/ABePxt1/589E/wDlbVWb4Q+LZpsp8b/HkC4+6tl4fI/XTDXqlFAHlH/Cm/F3/RdvH3/gD4e/+VVNk+Dfi0Lz8dfHxH/Xj4fH1/5hXpXrNcv8QPHFv4B0vT7+8tpp7K51K106WaLGLb7RIIklfP8AAJHRTjkBs9qAPO5f2e9euvE1lrsnxq8fHVbK0ubK3uvsmgjZDNJC8qbRpew7mt4Tkjd8voTWr/wpvxd/0Xbx9/4A+Hv/AJVV02pfEKw0zxpb+HZd2/8Asm41i6vjIqw2VvG6IrSFj/GWbaehEUh7VU+E3xX0v4tWuvXmjw3kdnpWpNpnmXlu0BmYQQzeaqN8wRlnXbuGSOehFAGJ/wAKZ8XN1+O3j4/9uPh7/wCVVH/CnvFsZU/8Ly8fMM8qbHw/z/5SxXq9FAHmUnwr8TDbu+MnjcDgf8emhjP/AJTf5V5h8YP2HNK+PN1os3jX4l+OtVk0dLhLJ1OkQGITGLzVIi08A58iI5OTxX03RTjJwfNHRgfEn/DqH4Z/9Dv4+/8AArTv/kGj/h1B8Mv+h38ff+BWnf8AyBX21TJlLJjnOR0Pv/KuxZhi+lV/eB8Uf8OoPhl/0O/j7/wK07/5Ao/4dQfDL/od/H3/AIFad/8AIFfRy/GrS2+FGq+N5rO7t49Je5gudNbablbqCZoWtx2LtKuxfXep4BzVTxB8cB4cvr/7Z4T1xdD0+6t7K/1s+R5FvNMIioCGYPKimZA7oCASQN2Dh/X8Z/z9l94Hz5/w6g+Gf/Q7+Pv/AAK07/5ApG/4JQ/DMf8AM7+Pv/AnTu3P/PjX2rEMSMOn45z75/L9Knpf2hi+tWX3gfO/wc/ZAt/gXoN9ovgz4oeONK0+9vG1CeJl0ectM0ccZbdJp5I+WJBj/Zrp/GPwD1Xxt4V1jw7rPxb8bXekavZzWF7b/ZtETzYZY2jdNw04EZDEZB717DRz2ricpSfNfXuB8Qx/8EofhnwB428fbcYz9q07t062PPU0/wD4dQfDL/od/H3/AIFad/8AIFfbXNI52gEjvXasfi1p7WX3gfE3/DqD4Zf9Dv4+/wDArTv/AJAo/wCHUHwy/wCh38ff+BWnf/IFfV1943gsviNY+EpreaK51DTZtRtLpmxDN5UkccsQ771EsbcdifSsC6+MQnk1eLRvDWseIJrPWzocK2CJ5c8qW6zTOZHZUjjTLxlnI+dCqhmKqX9fxn/P2X3gfOH/AA6g+GX/AEO/j7/wK07/AOQKP+HUHwy/6Hfx9/4Fad/8gV9Z/DzxrafEDw6msWUFxar59xZTW9yFEkM9vM8E0Z2synbJG67kZlOMqSDmun5o/tDGf8/ZfeB8h+A/+Cbfg34YeNNJ8V+HPH/jyz13S3ka0uXm0yQRGSGSF22tp5U/u5XGCMc17b/wqnxN8q/8Lm8cBupH2TQT1zg/8g31549K9QoNctSrUrPmqNt+YHyH4/8A+Cbvgv4oeNtW8V+IfH/jy61zVWie6nSbTIhIY4UhU7FsdowkaDgdvesD/h1B8Mv+h38ff+BWnf8AyBX231pkn3cHPtg8/hW8cbiaa5YVGl5MD4n/AOHUHwy/6Hfx9/4Fad/8gUf8OoPhl/0O/j7/AMCtO/8AkCvqXQ/iVpmop4yN2j6V/wAIrdyWuoLdY+VFhSdZhjJ8topFYf8AAh2rjtP/AGhvtVjpmpXHg3xDpeh30+n2kmpXsUaLb3F75Pkx7PN3ygNcQxu8alFZmALbH239fxn/AD9l94Hhf/DqD4Zf9Dv4+/8AArTv/kCj/h1B8Mv+h38ff+BWnf8AyBX0zcfGLR7X4vWngBoLo6jcWgmF/hfsyysssiWrHOfNaKCeTGOFTOfmFd9GuD+HUd/84FH1/Gf8/ZfeB8Tt/wAEn/hn28ceP8+13p4/lYive/B/wC1TwP4X0bw5ovxd8bWmkaRZQ6fZ2/2bRHMcMKLHGu5tOJbCqBkmvYaMiuerXq1v4km/UD58+MH7H9t8dvD9honjT4o+OdT0+xvl1G3jRNHgKTrHJGH3R6epPyyyDBOOfavJl/4JQ/DLHHjnx8RgY/0rTuf/ACRr7c/CmSZ2+n061dPFV6S5ac2l5MD4n/4dQfDL/oePH3/gVp3/AMgUf8OoPhl/0O/j7/wK07/5Ar6v8S+OLXwv4k8LaTd20+3xBdy2UN4gzHHcJC8yo/pvSKTHuuO9c74i+MS6Z4tvvDOl+G9X8T6nai1R/wCz0XyFmmWeURySOQsZWKDzDuOB5sQGS4Fa/X8X0qy+8D5y/wCHUHwy/wCh38ff+BWnf/IFH/DqD4Zf9Dv4+/8AArTv/kCvdf8AhoZdQufDNnoPhLV9b1TWhqpaxW4toHtH0+4jt7pJGeURsRLJgFGKtjIJBBPcfDXx9B8RtDl1KGyutLlt7qawu9PvTH5trcwuY5Y2MbOpwy8FWIIIo+v4z/n7L7wPlL/h1D8MwD/xXHj7pz/pOnH/ANsa9E+DX7EOkfAe61mbwX8S/HOmT6wkCXkj/wBlXHmLAZPLH7zTyBtM0nTnn2r6WpRmsamKxFZctSo2vPUDzOX4VeJmXafjF42IPGPsuiDt6jTgR+FfNdr/AMEm/hfb2sUMPjXx8sMahUH2nTuFAGOtj6Y/KvuBqT9ailXq0Zc1OTj6OwHxL/w6h+Gf/Q7+Pv8AwK03/wCQaP8Ah1B8Mv8Aod/H3/gVp3/yBX2w3zKRjP5Vytt42trz4kan4Q8i4W9stJtdXkuCV8to55riJUyOdym2c/8AAq6f7Qxn/P6T+YHyj/w6g+GX/Q7+Pv8AwK07/wCQKP8Ah1B8Mv8Aod/H3/gVp3/yBX0brnxZvYfFWp6F4c8I6p4xutH8tdRntJre3gt5XQOkO+aRBJLsZHKqMKrplgWAPUfD3xtp/wAQvDNvrWlrcR20jSQvBdxmKe3mjkaOWKRT0dHVlPJGVODij6/jP+fsvvA+Sv8Ah1B8M/8Aod/H3/gVp3/yDW94B/4Jt+Dfhf400nxX4d+IHjuz13THla0uZJdMkERkhkhdtrWBUny5XHIxzX15zSisp4zEVFyzqNrzYHmcXwr8TN/zWTxvnGT/AKJoR/HjTf5VJ/wqvxP/ANFk8bf+Aeh//K2vSKWuX0A82/4VX4n/AOiyeNv/AAD0P/5W0f8ACq/E/wD0WTxt/wCAeh//ACtr0mimB5tZ/B+7HiTQdY1vx/4m8U/2JcyXtnZ6pFp0UCTvbTW5kP2a0hc4juJRgsV+bOCQCPRU5dj/APWP+elSUUAFFFFABRRRQAUUUUAFFFFABRRRQAUUUUAFFFFABRRRQAUUUUAFFFFABRRRQAUUUUAFc98QfB9l8QPBWteGtQ3Cz1a0ls5Gj++gdCu5T2YZyD2IBroaKAPJPgX4c8VQwav4q8e2kdl4w1YW9tNBFIkyxW9tHsRUZCQQ8jXM+Afl+0YI4rX+E3hfUvDeufEea/tzBDqviV7+yfzUk82D7Haxbvl5XDROuG5+WvRKKACiiigAooooAKjnJCDbwc/57GpKKAPBdU+FOu3HxnkgitY2+Ht/qVt4qv5TIuTqNvH5S2/lk7iGZLK43Abc27jqRUHi1vGnir4oGLXvh74h1TwRpF5BNpdvpt3pZt76ZCrC9uzJdpIRG/McCoQDGHYsxRY/oGigCGFSGJPbIxntng++f55qaiigAooooAKbJ930wc5xmnUUAeZfG3w9rN1o+jeI/C9iup+K/DeopqFhYtOkH2tHVoZ7cyP8q74ZpdpbgOEPas2z8M618N/hZ4c0C20M+LVcsniKO2uFgupnnWSS5uIjI6IS1y5YqXX5HbaSyqrev0UAeYfs8+EdT8EeAf7K1G0fSoBfXU2naPLMs8unWbyloYJZEZlZwCc4ZgM7VZgu4+n0UUAFFFFABTJCApJOB7U+igDwb4w/CvXvEXjpBotureHPFlrBpfi2ZpkVYbe3nEqv5bEFzNC13bNtDEeZCxG1WIg+LHhnxX451aDT7fwhMmo6VrNleeHvFMN/F9jsoQYmmeeJplkMgCTJ5YhdXDx88uV+gKKAPlfUfgb8QdY8M6z4t/te4sPG0uunxVZ+G5PsjQfaICI7S2e4ClstbxRQsVkCnzG5xX05p9w9zDHLLBJaySRq7QSlS8ZIyVYqSNwJxwSOODVyigAooooAKKKKAOH+M/hG78Z/D++tNL2rr1pJFqWkSOwUJfW8izW+SeimRFU+qsQeCa4fw9ovirw34JW/uvCbazqvirVJ9R8TaXBeRpdW8U8bJHFG7OkUjQottA3zrlY3ZCTgH3CigD45h+C/iTS7/wCH8t/4B1zWfDmkr4gEGh6RrFtDeaRb3VxaPZwSTPdxCVlWGYsUlkAOASflavb/ANnLwfq/gfwfqen6jpz6FYyarcXelaHNcrczadaSbWEUsqswdzKZ5M72x5m3cdua9XooAKKKKACiiigBk33DwCO+eleK68ninwj8ftZ8T2XgbWvFmj6h4Z07Tkn0e5sI2jnhu76SQOtzcwn7k8eCoI7Zr22igDw3RU8V/DHxF4uu7PwPqnifSfE99HrkUenXdmlzYXBtYIZLaZZp40KjyFZXiZxlmXBKgv2HwT8G6n4N8L3v9tiGLWNY1S91q8trWQyQ20lzMZPJV8DdsVlUtgbiGIGDXoVFABRRRQAUUUUAFFFFABRRRQAUUUUAFFFFABRRRQAUUUUAFFFFABRRRQAUUUUAFFFFABRRRQAUUUUAFFFFABRRRQAUUUUAFFFFABRRRQAUUUUAFFFFABRRRQAUUUUAFFFFABRRRQAUUUUAFFFFABRRRQAUUUUAFFFFABRRRQAUUUUAFFFFABRRRQAUUUUAFFFFABRRRQAUUUUAFFFFABRRRQAUUUUAFFFFABRRRQAUUUUAFFFFABRRRQAUUUUAFFFFAH//2Q==)"
      ]
    },
    {
      "cell_type": "code",
      "metadata": {
        "id": "Pbwxj5r8Cmi6"
      },
      "source": [
        ""
      ],
      "execution_count": null,
      "outputs": []
    }
  ]
}